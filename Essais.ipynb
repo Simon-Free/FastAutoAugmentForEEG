{
 "cells": [
  {
   "cell_type": "code",
   "execution_count": 1,
   "metadata": {},
   "outputs": [
    {
     "name": "stdout",
     "output_type": "stream",
     "text": [
      "Using default location ~/mne_data for PHYSIONET_SLEEP...\n"
     ]
    }
   ],
   "source": [
    "from mne.datasets.sleep_physionet.age import fetch_data\n",
    "ALICE, BOB = 0, 1\n",
    "[alice_files, bob_files] = fetch_data(subjects=[ALICE, BOB], recording=[1])\n",
    "\n"
   ]
  },
  {
   "cell_type": "code",
   "execution_count": 7,
   "metadata": {},
   "outputs": [
    {
     "name": "stdout",
     "output_type": "stream",
     "text": [
      "Using default location ~/mne_data for PHYSIONET_SLEEP...\n",
      "Downloading https://physionet.org/physiobank/database/sleep-edfx/sleep-cassette//SC4002E0-PSG.edf (49.2 MB)\n"
     ]
    },
    {
     "data": {
      "application/vnd.jupyter.widget-view+json": {
       "model_id": "335d1bec28414785a9823a5a6c2ddb6d",
       "version_major": 2,
       "version_minor": 0
      },
      "text/plain": [
       "HBox(children=(FloatProgress(value=0.0, description='Downloading', max=51621248.0, style=ProgressStyle(descrip…"
      ]
     },
     "metadata": {},
     "output_type": "display_data"
    },
    {
     "name": "stdout",
     "output_type": "stream",
     "text": [
      "\n",
      "Verifying hash c6b6d7a8605cc7e7602b6028ee77f6fbf5f7581d.\n",
      "Downloading https://physionet.org/physiobank/database/sleep-edfx/sleep-cassette//SC4002EC-Hypnogram.edf (4 kB)\n"
     ]
    },
    {
     "data": {
      "application/vnd.jupyter.widget-view+json": {
       "model_id": "b6a637b6686643088e15aae603fd7259",
       "version_major": 2,
       "version_minor": 0
      },
      "text/plain": [
       "HBox(children=(FloatProgress(value=0.0, description='Downloading', max=4580.0, style=ProgressStyle(description…"
      ]
     },
     "metadata": {},
     "output_type": "display_data"
    },
    {
     "name": "stdout",
     "output_type": "stream",
     "text": [
      "\n",
      "Verifying hash 386230188a3552b1fc90bba0fb7476ceaca174b6.\n",
      "Downloading https://physionet.org/physiobank/database/sleep-edfx/sleep-cassette//SC4012E0-PSG.edf (49.6 MB)\n"
     ]
    },
    {
     "data": {
      "application/vnd.jupyter.widget-view+json": {
       "model_id": "928a19a9a2314c3bac1624729e34e33b",
       "version_major": 2,
       "version_minor": 0
      },
      "text/plain": [
       "HBox(children=(FloatProgress(value=0.0, description='Downloading', max=51986048.0, style=ProgressStyle(descrip…"
      ]
     },
     "metadata": {},
     "output_type": "display_data"
    },
    {
     "name": "stdout",
     "output_type": "stream",
     "text": [
      "\n",
      "Verifying hash a47d525f5147904b6890231e2ad338359c7ab94c.\n",
      "Downloading https://physionet.org/physiobank/database/sleep-edfx/sleep-cassette//SC4012EC-Hypnogram.edf (5 kB)\n"
     ]
    },
    {
     "data": {
      "application/vnd.jupyter.widget-view+json": {
       "model_id": "8b5491a544e74a4fbd49f82878fd9bef",
       "version_major": 2,
       "version_minor": 0
      },
      "text/plain": [
       "HBox(children=(FloatProgress(value=0.0, description='Downloading', max=5082.0, style=ProgressStyle(description…"
      ]
     },
     "metadata": {},
     "output_type": "display_data"
    },
    {
     "name": "stdout",
     "output_type": "stream",
     "text": [
      "\n",
      "Verifying hash fa99f60d7f54617cdd1128aff4f21c4daed763c7.\n",
      "Downloading https://physionet.org/physiobank/database/sleep-edfx/sleep-cassette//SC4021E0-PSG.edf (48.8 MB)\n"
     ]
    },
    {
     "data": {
      "application/vnd.jupyter.widget-view+json": {
       "model_id": "15bfe7e6e7294e09828dbbd7f3e411c2",
       "version_major": 2,
       "version_minor": 0
      },
      "text/plain": [
       "HBox(children=(FloatProgress(value=0.0, description='Downloading', max=51147008.0, style=ProgressStyle(descrip…"
      ]
     },
     "metadata": {},
     "output_type": "display_data"
    },
    {
     "name": "stdout",
     "output_type": "stream",
     "text": [
      "\n",
      "Verifying hash 8b135afa7fb93bb5f1998fda50355944777c245e.\n",
      "Downloading https://physionet.org/physiobank/database/sleep-edfx/sleep-cassette//SC4021EH-Hypnogram.edf (5 kB)\n"
     ]
    },
    {
     "data": {
      "application/vnd.jupyter.widget-view+json": {
       "model_id": "fbcf7b492e3d446cb6321c78bb8321ae",
       "version_major": 2,
       "version_minor": 0
      },
      "text/plain": [
       "HBox(children=(FloatProgress(value=0.0, description='Downloading', max=4804.0, style=ProgressStyle(description…"
      ]
     },
     "metadata": {},
     "output_type": "display_data"
    },
    {
     "name": "stdout",
     "output_type": "stream",
     "text": [
      "\n",
      "Verifying hash 91043cfe46695088b17b6a02937b25efd674c3fb.\n",
      "Downloading https://physionet.org/physiobank/database/sleep-edfx/sleep-cassette//SC4022E0-PSG.edf (47.9 MB)\n"
     ]
    },
    {
     "data": {
      "application/vnd.jupyter.widget-view+json": {
       "model_id": "e6c6042dd8a245a9a54773d38b94dd18",
       "version_major": 2,
       "version_minor": 0
      },
      "text/plain": [
       "HBox(children=(FloatProgress(value=0.0, description='Downloading', max=50271488.0, style=ProgressStyle(descrip…"
      ]
     },
     "metadata": {},
     "output_type": "display_data"
    },
    {
     "name": "stdout",
     "output_type": "stream",
     "text": [
      "\n",
      "Verifying hash d739e142b3b328c71b4752149901805dcd6d7e19.\n",
      "Downloading https://physionet.org/physiobank/database/sleep-edfx/sleep-cassette//SC4022EJ-Hypnogram.edf (5 kB)\n"
     ]
    },
    {
     "data": {
      "application/vnd.jupyter.widget-view+json": {
       "model_id": "f2142d8106ba4deaa01b0413c740b1c0",
       "version_major": 2,
       "version_minor": 0
      },
      "text/plain": [
       "HBox(children=(FloatProgress(value=0.0, description='Downloading', max=5292.0, style=ProgressStyle(description…"
      ]
     },
     "metadata": {},
     "output_type": "display_data"
    },
    {
     "name": "stdout",
     "output_type": "stream",
     "text": [
      "\n",
      "Verifying hash 0c46a03699dd00e8f92a7edff99ebc4642cb3d48.\n",
      "Downloading https://physionet.org/physiobank/database/sleep-edfx/sleep-cassette//SC4031E0-PSG.edf (49.1 MB)\n"
     ]
    },
    {
     "data": {
      "application/vnd.jupyter.widget-view+json": {
       "model_id": "383986352a5346b0a7a9e5f2cfc00801",
       "version_major": 2,
       "version_minor": 0
      },
      "text/plain": [
       "HBox(children=(FloatProgress(value=0.0, description='Downloading', max=51438848.0, style=ProgressStyle(descrip…"
      ]
     },
     "metadata": {},
     "output_type": "display_data"
    },
    {
     "name": "stdout",
     "output_type": "stream",
     "text": [
      "\n",
      "Verifying hash 85e58dc1e3303537dade8c5827ab58328239c384.\n",
      "Downloading https://physionet.org/physiobank/database/sleep-edfx/sleep-cassette//SC4031EC-Hypnogram.edf (4 kB)\n"
     ]
    },
    {
     "data": {
      "application/vnd.jupyter.widget-view+json": {
       "model_id": "0894fd4689fc460392ee308faab716b5",
       "version_major": 2,
       "version_minor": 0
      },
      "text/plain": [
       "HBox(children=(FloatProgress(value=0.0, description='Downloading', max=3700.0, style=ProgressStyle(description…"
      ]
     },
     "metadata": {},
     "output_type": "display_data"
    },
    {
     "name": "stdout",
     "output_type": "stream",
     "text": [
      "\n",
      "Verifying hash 6363d8b0fdc48cf396c9abf054bb4a9696d38bdb.\n",
      "Downloading https://physionet.org/physiobank/database/sleep-edfx/sleep-cassette//SC4032E0-PSG.edf (47.5 MB)\n"
     ]
    },
    {
     "data": {
      "application/vnd.jupyter.widget-view+json": {
       "model_id": "ef598a565b6f445aae85c052e2a4cfec",
       "version_major": 2,
       "version_minor": 0
      },
      "text/plain": [
       "HBox(children=(FloatProgress(value=0.0, description='Downloading', max=49833728.0, style=ProgressStyle(descrip…"
      ]
     },
     "metadata": {},
     "output_type": "display_data"
    },
    {
     "name": "stdout",
     "output_type": "stream",
     "text": [
      "\n",
      "Verifying hash 43963d300642b3aa840e8c468f321b8162601772.\n",
      "Downloading https://physionet.org/physiobank/database/sleep-edfx/sleep-cassette//SC4032EP-Hypnogram.edf (4 kB)\n"
     ]
    },
    {
     "data": {
      "application/vnd.jupyter.widget-view+json": {
       "model_id": "095a8e4f3e2c4021ba9bd557762e2ad7",
       "version_major": 2,
       "version_minor": 0
      },
      "text/plain": [
       "HBox(children=(FloatProgress(value=0.0, description='Downloading', max=3800.0, style=ProgressStyle(description…"
      ]
     },
     "metadata": {},
     "output_type": "display_data"
    },
    {
     "name": "stdout",
     "output_type": "stream",
     "text": [
      "\n",
      "Verifying hash 7925514bc8d2ef3f1103130f08f7b3afd2136b88.\n",
      "Downloading https://physionet.org/physiobank/database/sleep-edfx/sleep-cassette//SC4041E0-PSG.edf (44.7 MB)\n"
     ]
    },
    {
     "data": {
      "application/vnd.jupyter.widget-view+json": {
       "model_id": "64b74a00993841a19bf37ec5c4ebe636",
       "version_major": 2,
       "version_minor": 0
      },
      "text/plain": [
       "HBox(children=(FloatProgress(value=0.0, description='Downloading', max=46878848.0, style=ProgressStyle(descrip…"
      ]
     },
     "metadata": {},
     "output_type": "display_data"
    },
    {
     "name": "stdout",
     "output_type": "stream",
     "text": [
      "\n",
      "Verifying hash 04d2b88d25f2ae4a65ba44cd9145bd12800a0e20.\n",
      "Downloading https://physionet.org/physiobank/database/sleep-edfx/sleep-cassette//SC4041EC-Hypnogram.edf (5 kB)\n"
     ]
    },
    {
     "data": {
      "application/vnd.jupyter.widget-view+json": {
       "model_id": "2d29de6c934847abb26305838805337f",
       "version_major": 2,
       "version_minor": 0
      },
      "text/plain": [
       "HBox(children=(FloatProgress(value=0.0, description='Downloading', max=4830.0, style=ProgressStyle(description…"
      ]
     },
     "metadata": {},
     "output_type": "display_data"
    },
    {
     "name": "stdout",
     "output_type": "stream",
     "text": [
      "\n",
      "Verifying hash f148821669bd3588187b3b430bd79adf569f86d1.\n",
      "Downloading https://physionet.org/physiobank/database/sleep-edfx/sleep-cassette//SC4042E0-PSG.edf (48.6 MB)\n"
     ]
    },
    {
     "data": {
      "application/vnd.jupyter.widget-view+json": {
       "model_id": "ba35d1dd2d0e4d66a91f059ff47bea6d",
       "version_major": 2,
       "version_minor": 0
      },
      "text/plain": [
       "HBox(children=(FloatProgress(value=0.0, description='Downloading', max=50928128.0, style=ProgressStyle(descrip…"
      ]
     },
     "metadata": {},
     "output_type": "display_data"
    },
    {
     "name": "stdout",
     "output_type": "stream",
     "text": [
      "\n",
      "Verifying hash 76253d964d7797540ffd791e6e136023ed67a485.\n",
      "Downloading https://physionet.org/physiobank/database/sleep-edfx/sleep-cassette//SC4042EC-Hypnogram.edf (5 kB)\n"
     ]
    },
    {
     "data": {
      "application/vnd.jupyter.widget-view+json": {
       "model_id": "929ec67e52444b09ae93163bcea6d320",
       "version_major": 2,
       "version_minor": 0
      },
      "text/plain": [
       "HBox(children=(FloatProgress(value=0.0, description='Downloading', max=5276.0, style=ProgressStyle(description…"
      ]
     },
     "metadata": {},
     "output_type": "display_data"
    },
    {
     "name": "stdout",
     "output_type": "stream",
     "text": [
      "\n",
      "Verifying hash 9873df429f971f8a4b720a454f6c0472b8a25ebb.\n",
      "Downloading https://physionet.org/physiobank/database/sleep-edfx/sleep-cassette//SC4051E0-PSG.edf (47.4 MB)\n"
     ]
    },
    {
     "data": {
      "application/vnd.jupyter.widget-view+json": {
       "model_id": "711bcd7093524b009addb6c7e30da8bd",
       "version_major": 2,
       "version_minor": 0
      },
      "text/plain": [
       "HBox(children=(FloatProgress(value=0.0, description='Downloading', max=49651328.0, style=ProgressStyle(descrip…"
      ]
     },
     "metadata": {},
     "output_type": "display_data"
    },
    {
     "name": "stdout",
     "output_type": "stream",
     "text": [
      "\n",
      "Verifying hash ea073451b65ce8a6f1a02a8cc2b89d1a162ca0ae.\n",
      "Downloading https://physionet.org/physiobank/database/sleep-edfx/sleep-cassette//SC4051EC-Hypnogram.edf (4 kB)\n"
     ]
    },
    {
     "data": {
      "application/vnd.jupyter.widget-view+json": {
       "model_id": "4470cb5665b741b694fc52566145ba95",
       "version_major": 2,
       "version_minor": 0
      },
      "text/plain": [
       "HBox(children=(FloatProgress(value=0.0, description='Downloading', max=3976.0, style=ProgressStyle(description…"
      ]
     },
     "metadata": {},
     "output_type": "display_data"
    },
    {
     "name": "stdout",
     "output_type": "stream",
     "text": [
      "\n",
      "Verifying hash 4159ef8a3e119d6dcc1bede806f6fbc017b27a0f.\n",
      "Downloading https://physionet.org/physiobank/database/sleep-edfx/sleep-cassette//SC4052E0-PSG.edf (48.8 MB)\n"
     ]
    },
    {
     "data": {
      "application/vnd.jupyter.widget-view+json": {
       "model_id": "2841b4a5199e4ed0bb8bafb4e9fc2916",
       "version_major": 2,
       "version_minor": 0
      },
      "text/plain": [
       "HBox(children=(FloatProgress(value=0.0, description='Downloading', max=51183488.0, style=ProgressStyle(descrip…"
      ]
     },
     "metadata": {},
     "output_type": "display_data"
    },
    {
     "name": "stdout",
     "output_type": "stream",
     "text": [
      "\n",
      "Verifying hash 5a2efbd21be9b745fd534394eb2503caca7dc53f.\n",
      "Downloading https://physionet.org/physiobank/database/sleep-edfx/sleep-cassette//SC4052EC-Hypnogram.edf (4 kB)\n"
     ]
    },
    {
     "data": {
      "application/vnd.jupyter.widget-view+json": {
       "model_id": "ecf5005f60f84d518754b479ad733ba0",
       "version_major": 2,
       "version_minor": 0
      },
      "text/plain": [
       "HBox(children=(FloatProgress(value=0.0, description='Downloading', max=4232.0, style=ProgressStyle(description…"
      ]
     },
     "metadata": {},
     "output_type": "display_data"
    },
    {
     "name": "stdout",
     "output_type": "stream",
     "text": [
      "\n",
      "Verifying hash 0e96482d44762df4da65dc4fdb970b342264d22a.\n",
      "Downloading https://physionet.org/physiobank/database/sleep-edfx/sleep-cassette//SC4061E0-PSG.edf (48.2 MB)\n"
     ]
    },
    {
     "data": {
      "application/vnd.jupyter.widget-view+json": {
       "model_id": "7573f35d971b4f9790cf6c0566fa9232",
       "version_major": 2,
       "version_minor": 0
      },
      "text/plain": [
       "HBox(children=(FloatProgress(value=0.0, description='Downloading', max=50526848.0, style=ProgressStyle(descrip…"
      ]
     },
     "metadata": {},
     "output_type": "display_data"
    },
    {
     "name": "stdout",
     "output_type": "stream",
     "text": [
      "\n",
      "Verifying hash 1736736e585807c14f1ae8bc87a94cae222c5170.\n",
      "Downloading https://physionet.org/physiobank/database/sleep-edfx/sleep-cassette//SC4061EC-Hypnogram.edf (3 kB)\n"
     ]
    },
    {
     "data": {
      "application/vnd.jupyter.widget-view+json": {
       "model_id": "9670cc2c8e6d4cc48919a9312861d1ea",
       "version_major": 2,
       "version_minor": 0
      },
      "text/plain": [
       "HBox(children=(FloatProgress(value=0.0, description='Downloading', max=2620.0, style=ProgressStyle(description…"
      ]
     },
     "metadata": {},
     "output_type": "display_data"
    },
    {
     "name": "stdout",
     "output_type": "stream",
     "text": [
      "\n",
      "Verifying hash 4bf99622c67c281b25ceccd35e7050328a2946e8.\n",
      "Downloading https://physionet.org/physiobank/database/sleep-edfx/sleep-cassette//SC4062E0-PSG.edf (49.2 MB)\n"
     ]
    },
    {
     "data": {
      "application/vnd.jupyter.widget-view+json": {
       "model_id": "1470d45d2c1b44679d0163250f0dcbcc",
       "version_major": 2,
       "version_minor": 0
      },
      "text/plain": [
       "HBox(children=(FloatProgress(value=0.0, description='Downloading', max=51621248.0, style=ProgressStyle(descrip…"
      ]
     },
     "metadata": {},
     "output_type": "display_data"
    },
    {
     "name": "stdout",
     "output_type": "stream",
     "text": [
      "\n",
      "Verifying hash 763c7ac059f1771a0165e5cb351b176afb1cfe15.\n",
      "Downloading https://physionet.org/physiobank/database/sleep-edfx/sleep-cassette//SC4062EC-Hypnogram.edf (3 kB)\n"
     ]
    },
    {
     "data": {
      "application/vnd.jupyter.widget-view+json": {
       "model_id": "10663eae78d4469fab6ebe8e83033692",
       "version_major": 2,
       "version_minor": 0
      },
      "text/plain": [
       "HBox(children=(FloatProgress(value=0.0, description='Downloading', max=3146.0, style=ProgressStyle(description…"
      ]
     },
     "metadata": {},
     "output_type": "display_data"
    },
    {
     "name": "stdout",
     "output_type": "stream",
     "text": [
      "\n",
      "Verifying hash 14f07411cd04d3b4b522d37c129334955287ff5f.\n",
      "Downloading https://physionet.org/physiobank/database/sleep-edfx/sleep-cassette//SC4071E0-PSG.edf (48.9 MB)\n"
     ]
    },
    {
     "data": {
      "application/vnd.jupyter.widget-view+json": {
       "model_id": "8578b5da90ed47dba9def71f639b7992",
       "version_major": 2,
       "version_minor": 0
      },
      "text/plain": [
       "HBox(children=(FloatProgress(value=0.0, description='Downloading', max=51256448.0, style=ProgressStyle(descrip…"
      ]
     },
     "metadata": {},
     "output_type": "display_data"
    },
    {
     "name": "stdout",
     "output_type": "stream",
     "text": [
      "\n",
      "Verifying hash 1374b34f6139b6ff7e865d8243eef39ba334ef50.\n",
      "Downloading https://physionet.org/physiobank/database/sleep-edfx/sleep-cassette//SC4071EC-Hypnogram.edf (4 kB)\n"
     ]
    },
    {
     "data": {
      "application/vnd.jupyter.widget-view+json": {
       "model_id": "ff3d53c9ed6d4eea9fa67e8bb886b783",
       "version_major": 2,
       "version_minor": 0
      },
      "text/plain": [
       "HBox(children=(FloatProgress(value=0.0, description='Downloading', max=3628.0, style=ProgressStyle(description…"
      ]
     },
     "metadata": {},
     "output_type": "display_data"
    },
    {
     "name": "stdout",
     "output_type": "stream",
     "text": [
      "\n",
      "Verifying hash 608024fd19a140ad233a4680e07c2495a74b69c2.\n",
      "Downloading https://physionet.org/physiobank/database/sleep-edfx/sleep-cassette//SC4072E0-PSG.edf (48.2 MB)\n"
     ]
    },
    {
     "data": {
      "application/vnd.jupyter.widget-view+json": {
       "model_id": "fe7ff71b546342f6ba908840712870d2",
       "version_major": 2,
       "version_minor": 0
      },
      "text/plain": [
       "HBox(children=(FloatProgress(value=0.0, description='Downloading', max=50526848.0, style=ProgressStyle(descrip…"
      ]
     },
     "metadata": {},
     "output_type": "display_data"
    },
    {
     "name": "stdout",
     "output_type": "stream",
     "text": [
      "\n",
      "Verifying hash 1c570644243d79396df612fa2b9bc027b24430e4.\n",
      "Downloading https://physionet.org/physiobank/database/sleep-edfx/sleep-cassette//SC4072EH-Hypnogram.edf (5 kB)\n"
     ]
    },
    {
     "data": {
      "application/vnd.jupyter.widget-view+json": {
       "model_id": "15b3e3d14161463b966b551c5702bd5c",
       "version_major": 2,
       "version_minor": 0
      },
      "text/plain": [
       "HBox(children=(FloatProgress(value=0.0, description='Downloading', max=5284.0, style=ProgressStyle(description…"
      ]
     },
     "metadata": {},
     "output_type": "display_data"
    },
    {
     "name": "stdout",
     "output_type": "stream",
     "text": [
      "\n",
      "Verifying hash a8da6c20b9b48189f05ab537886b59dd141374d2.\n",
      "Downloading https://physionet.org/physiobank/database/sleep-edfx/sleep-cassette//SC4081E0-PSG.edf (48.6 MB)\n"
     ]
    },
    {
     "data": {
      "application/vnd.jupyter.widget-view+json": {
       "model_id": "9e2a94deb8b8463b94857e911d7dca8e",
       "version_major": 2,
       "version_minor": 0
      },
      "text/plain": [
       "HBox(children=(FloatProgress(value=0.0, description='Downloading', max=51001088.0, style=ProgressStyle(descrip…"
      ]
     },
     "metadata": {},
     "output_type": "display_data"
    },
    {
     "name": "stdout",
     "output_type": "stream",
     "text": [
      "\n",
      "Verifying hash 0e1cc2c4e1da14ab94515e3e7e75e8ad30ec99cb.\n",
      "Downloading https://physionet.org/physiobank/database/sleep-edfx/sleep-cassette//SC4081EC-Hypnogram.edf (4 kB)\n"
     ]
    },
    {
     "data": {
      "application/vnd.jupyter.widget-view+json": {
       "model_id": "47f48bf5038249ff91f94442dcb1c260",
       "version_major": 2,
       "version_minor": 0
      },
      "text/plain": [
       "HBox(children=(FloatProgress(value=0.0, description='Downloading', max=4306.0, style=ProgressStyle(description…"
      ]
     },
     "metadata": {},
     "output_type": "display_data"
    },
    {
     "name": "stdout",
     "output_type": "stream",
     "text": [
      "\n",
      "Verifying hash 9ec663ffa5c17afcaca59d7829d77b9165102237.\n",
      "Downloading https://physionet.org/physiobank/database/sleep-edfx/sleep-cassette//SC4082E0-PSG.edf (45.8 MB)\n"
     ]
    },
    {
     "data": {
      "application/vnd.jupyter.widget-view+json": {
       "model_id": "8be2d9b276664e7487531038b1f5d529",
       "version_major": 2,
       "version_minor": 0
      },
      "text/plain": [
       "HBox(children=(FloatProgress(value=0.0, description='Downloading', max=48046208.0, style=ProgressStyle(descrip…"
      ]
     },
     "metadata": {},
     "output_type": "display_data"
    },
    {
     "name": "stdout",
     "output_type": "stream",
     "text": [
      "\n",
      "Verifying hash d57d4aa7cbc5045f611a3a3e342b501e086ea426.\n",
      "Downloading https://physionet.org/physiobank/database/sleep-edfx/sleep-cassette//SC4082EP-Hypnogram.edf (5 kB)\n"
     ]
    },
    {
     "data": {
      "application/vnd.jupyter.widget-view+json": {
       "model_id": "b29806f532724aa0943d95f84938a732",
       "version_major": 2,
       "version_minor": 0
      },
      "text/plain": [
       "HBox(children=(FloatProgress(value=0.0, description='Downloading', max=4668.0, style=ProgressStyle(description…"
      ]
     },
     "metadata": {},
     "output_type": "display_data"
    },
    {
     "name": "stdout",
     "output_type": "stream",
     "text": [
      "\n",
      "Verifying hash d43c785dba43063d7baa332671c6bac9c832b5b7.\n",
      "Downloading https://physionet.org/physiobank/database/sleep-edfx/sleep-cassette//SC4091E0-PSG.edf (47.5 MB)\n"
     ]
    },
    {
     "data": {
      "application/vnd.jupyter.widget-view+json": {
       "model_id": "41167199adb54cca81af2585acc32cbc",
       "version_major": 2,
       "version_minor": 0
      },
      "text/plain": [
       "HBox(children=(FloatProgress(value=0.0, description='Downloading', max=49833728.0, style=ProgressStyle(descrip…"
      ]
     },
     "metadata": {},
     "output_type": "display_data"
    },
    {
     "name": "stdout",
     "output_type": "stream",
     "text": [
      "\n",
      "Verifying hash b3502e0bd54683e973182c791aa962b804e79633.\n",
      "Downloading https://physionet.org/physiobank/database/sleep-edfx/sleep-cassette//SC4091EC-Hypnogram.edf (4 kB)\n"
     ]
    },
    {
     "data": {
      "application/vnd.jupyter.widget-view+json": {
       "model_id": "6e51ea2e5c534a35acd26a6ff1eb2afb",
       "version_major": 2,
       "version_minor": 0
      },
      "text/plain": [
       "HBox(children=(FloatProgress(value=0.0, description='Downloading', max=4474.0, style=ProgressStyle(description…"
      ]
     },
     "metadata": {},
     "output_type": "display_data"
    },
    {
     "name": "stdout",
     "output_type": "stream",
     "text": [
      "\n",
      "Verifying hash 7aa63b408c769a4a983a908b6ba41d87dd743c6e.\n",
      "Downloading https://physionet.org/physiobank/database/sleep-edfx/sleep-cassette//SC4092E0-PSG.edf (49.7 MB)\n"
     ]
    },
    {
     "data": {
      "application/vnd.jupyter.widget-view+json": {
       "model_id": "8369ec9303764ab9be5055a0c6cf48b3",
       "version_major": 2,
       "version_minor": 0
      },
      "text/plain": [
       "HBox(children=(FloatProgress(value=0.0, description='Downloading', max=52131968.0, style=ProgressStyle(descrip…"
      ]
     },
     "metadata": {},
     "output_type": "display_data"
    },
    {
     "name": "stdout",
     "output_type": "stream",
     "text": [
      "\n",
      "Verifying hash 246e35852119b33d197db2f7bcfb1b46a5270a03.\n",
      "Downloading https://physionet.org/physiobank/database/sleep-edfx/sleep-cassette//SC4092EC-Hypnogram.edf (4 kB)\n"
     ]
    },
    {
     "data": {
      "application/vnd.jupyter.widget-view+json": {
       "model_id": "a332835ba60646828860336c1a8ce521",
       "version_major": 2,
       "version_minor": 0
      },
      "text/plain": [
       "HBox(children=(FloatProgress(value=0.0, description='Downloading', max=3662.0, style=ProgressStyle(description…"
      ]
     },
     "metadata": {},
     "output_type": "display_data"
    },
    {
     "name": "stdout",
     "output_type": "stream",
     "text": [
      "\n",
      "Verifying hash 9d85766a83231b1c6076cb293367ccc354c57eeb.\n",
      "Downloading https://physionet.org/physiobank/database/sleep-edfx/sleep-cassette//SC4101E0-PSG.edf (47.3 MB)\n"
     ]
    },
    {
     "data": {
      "application/vnd.jupyter.widget-view+json": {
       "model_id": "1c0247d7fa3c433d837fd2561fc24fba",
       "version_major": 2,
       "version_minor": 0
      },
      "text/plain": [
       "HBox(children=(FloatProgress(value=0.0, description='Downloading', max=49614848.0, style=ProgressStyle(descrip…"
      ]
     },
     "metadata": {},
     "output_type": "display_data"
    },
    {
     "name": "stdout",
     "output_type": "stream",
     "text": [
      "\n",
      "Verifying hash 3ae168ff2c9c0c56f51205fdb10f05a4c6b2064e.\n",
      "Downloading https://physionet.org/physiobank/database/sleep-edfx/sleep-cassette//SC4101EC-Hypnogram.edf (2 kB)\n"
     ]
    },
    {
     "data": {
      "application/vnd.jupyter.widget-view+json": {
       "model_id": "cb79a12231924474b58a07bdb71807fe",
       "version_major": 2,
       "version_minor": 0
      },
      "text/plain": [
       "HBox(children=(FloatProgress(value=0.0, description='Downloading', max=2224.0, style=ProgressStyle(description…"
      ]
     },
     "metadata": {},
     "output_type": "display_data"
    },
    {
     "name": "stdout",
     "output_type": "stream",
     "text": [
      "\n",
      "Verifying hash 60d9c3913881e11b06ad99e9870bd1ca4d93c952.\n",
      "Downloading https://physionet.org/physiobank/database/sleep-edfx/sleep-cassette//SC4102E0-PSG.edf (49.7 MB)\n"
     ]
    },
    {
     "data": {
      "application/vnd.jupyter.widget-view+json": {
       "model_id": "841a09d06f824e7a949fdb75afcd463b",
       "version_major": 2,
       "version_minor": 0
      },
      "text/plain": [
       "HBox(children=(FloatProgress(value=0.0, description='Downloading', max=52131968.0, style=ProgressStyle(descrip…"
      ]
     },
     "metadata": {},
     "output_type": "display_data"
    },
    {
     "name": "stdout",
     "output_type": "stream",
     "text": [
      "\n",
      "Verifying hash 86f307190961eaab0214fdc0213f8fe05812c7a5.\n",
      "Downloading https://physionet.org/physiobank/database/sleep-edfx/sleep-cassette//SC4102EC-Hypnogram.edf (4 kB)\n"
     ]
    },
    {
     "data": {
      "application/vnd.jupyter.widget-view+json": {
       "model_id": "395edb47b799478d93a2f36a0feaac81",
       "version_major": 2,
       "version_minor": 0
      },
      "text/plain": [
       "HBox(children=(FloatProgress(value=0.0, description='Downloading', max=3672.0, style=ProgressStyle(description…"
      ]
     },
     "metadata": {},
     "output_type": "display_data"
    },
    {
     "name": "stdout",
     "output_type": "stream",
     "text": [
      "\n",
      "Verifying hash 8072e2d52bc6c19b45fbd921550e5243bc5a1de7.\n",
      "Downloading https://physionet.org/physiobank/database/sleep-edfx/sleep-cassette//SC4111E0-PSG.edf (46.0 MB)\n"
     ]
    },
    {
     "data": {
      "application/vnd.jupyter.widget-view+json": {
       "model_id": "212100b709f843f3840ed6f17037c649",
       "version_major": 2,
       "version_minor": 0
      },
      "text/plain": [
       "HBox(children=(FloatProgress(value=0.0, description='Downloading', max=48192128.0, style=ProgressStyle(descrip…"
      ]
     },
     "metadata": {},
     "output_type": "display_data"
    },
    {
     "name": "stdout",
     "output_type": "stream",
     "text": [
      "\n",
      "Verifying hash e490956b4dce01c46ba88a2b847f091bb54ea16e.\n",
      "Downloading https://physionet.org/physiobank/database/sleep-edfx/sleep-cassette//SC4111EC-Hypnogram.edf (4 kB)\n"
     ]
    },
    {
     "data": {
      "application/vnd.jupyter.widget-view+json": {
       "model_id": "1aa682ff100b4d09acb55f46785476d3",
       "version_major": 2,
       "version_minor": 0
      },
      "text/plain": [
       "HBox(children=(FloatProgress(value=0.0, description='Downloading', max=3876.0, style=ProgressStyle(description…"
      ]
     },
     "metadata": {},
     "output_type": "display_data"
    },
    {
     "name": "stdout",
     "output_type": "stream",
     "text": [
      "\n",
      "Verifying hash 12db1920e2f6083c8ab1f2c24fe35dfa03715e4a.\n",
      "Downloading https://physionet.org/physiobank/database/sleep-edfx/sleep-cassette//SC4112E0-PSG.edf (48.4 MB)\n"
     ]
    },
    {
     "data": {
      "application/vnd.jupyter.widget-view+json": {
       "model_id": "5d49329f13ca4fb89c9916e27b5991e4",
       "version_major": 2,
       "version_minor": 0
      },
      "text/plain": [
       "HBox(children=(FloatProgress(value=0.0, description='Downloading', max=50709248.0, style=ProgressStyle(descrip…"
      ]
     },
     "metadata": {},
     "output_type": "display_data"
    },
    {
     "name": "stdout",
     "output_type": "stream",
     "text": [
      "\n",
      "Verifying hash ca24dc464df61144627588b29d35a85fcc7ac984.\n",
      "Downloading https://physionet.org/physiobank/database/sleep-edfx/sleep-cassette//SC4112EC-Hypnogram.edf (4 kB)\n"
     ]
    },
    {
     "data": {
      "application/vnd.jupyter.widget-view+json": {
       "model_id": "f617d637998a4fe599b49d3ba849c128",
       "version_major": 2,
       "version_minor": 0
      },
      "text/plain": [
       "HBox(children=(FloatProgress(value=0.0, description='Downloading', max=3876.0, style=ProgressStyle(description…"
      ]
     },
     "metadata": {},
     "output_type": "display_data"
    },
    {
     "name": "stdout",
     "output_type": "stream",
     "text": [
      "\n",
      "Verifying hash 54dbc39015b0a445b51189987a00e08cc27d8f0c.\n",
      "Downloading https://physionet.org/physiobank/database/sleep-edfx/sleep-cassette//SC4121E0-PSG.edf (48.5 MB)\n"
     ]
    },
    {
     "data": {
      "application/vnd.jupyter.widget-view+json": {
       "model_id": "00451793139b4cbaaf477d97967ceedb",
       "version_major": 2,
       "version_minor": 0
      },
      "text/plain": [
       "HBox(children=(FloatProgress(value=0.0, description='Downloading', max=50818688.0, style=ProgressStyle(descrip…"
      ]
     },
     "metadata": {},
     "output_type": "display_data"
    },
    {
     "name": "stdout",
     "output_type": "stream",
     "text": [
      "\n",
      "Verifying hash 33c72025a7a215ea5e255f4254cb0f93b1313369.\n",
      "Downloading https://physionet.org/physiobank/database/sleep-edfx/sleep-cassette//SC4121EC-Hypnogram.edf (4 kB)\n"
     ]
    },
    {
     "data": {
      "application/vnd.jupyter.widget-view+json": {
       "model_id": "5fd807383f864bcda9d3e45761108c84",
       "version_major": 2,
       "version_minor": 0
      },
      "text/plain": [
       "HBox(children=(FloatProgress(value=0.0, description='Downloading', max=4012.0, style=ProgressStyle(description…"
      ]
     },
     "metadata": {},
     "output_type": "display_data"
    },
    {
     "name": "stdout",
     "output_type": "stream",
     "text": [
      "\n",
      "Verifying hash daa57ece807cb5325c6d1ce059f0e8a8d1c85391.\n",
      "Downloading https://physionet.org/physiobank/database/sleep-edfx/sleep-cassette//SC4122E0-PSG.edf (45.3 MB)\n"
     ]
    },
    {
     "data": {
      "application/vnd.jupyter.widget-view+json": {
       "model_id": "95dffdd47141434e86506ff0f95d6b9c",
       "version_major": 2,
       "version_minor": 0
      },
      "text/plain": [
       "HBox(children=(FloatProgress(value=0.0, description='Downloading', max=47535488.0, style=ProgressStyle(descrip…"
      ]
     },
     "metadata": {},
     "output_type": "display_data"
    },
    {
     "name": "stdout",
     "output_type": "stream",
     "text": [
      "\n",
      "Verifying hash 34f5145ab62dcc5a53ba18735519e5bb2b13841a.\n",
      "Downloading https://physionet.org/physiobank/database/sleep-edfx/sleep-cassette//SC4122EV-Hypnogram.edf (4 kB)\n"
     ]
    },
    {
     "data": {
      "application/vnd.jupyter.widget-view+json": {
       "model_id": "6739a45b22e44b78a8438de1de9dd67e",
       "version_major": 2,
       "version_minor": 0
      },
      "text/plain": [
       "HBox(children=(FloatProgress(value=0.0, description='Downloading', max=4510.0, style=ProgressStyle(description…"
      ]
     },
     "metadata": {},
     "output_type": "display_data"
    },
    {
     "name": "stdout",
     "output_type": "stream",
     "text": [
      "\n",
      "Verifying hash b7af1a32d8ca15e8185e4c94213ffc18ad7f6e8a.\n",
      "Downloading https://physionet.org/physiobank/database/sleep-edfx/sleep-cassette//SC4131E0-PSG.edf (49.0 MB)\n"
     ]
    },
    {
     "data": {
      "application/vnd.jupyter.widget-view+json": {
       "model_id": "8554893ce7384f979a730286f6c31369",
       "version_major": 2,
       "version_minor": 0
      },
      "text/plain": [
       "HBox(children=(FloatProgress(value=0.0, description='Downloading', max=51329408.0, style=ProgressStyle(descrip…"
      ]
     },
     "metadata": {},
     "output_type": "display_data"
    },
    {
     "name": "stdout",
     "output_type": "stream",
     "text": [
      "\n",
      "Verifying hash 42ff97035aae6dd34ca9437857c48ac6f2ab97df.\n",
      "Downloading https://physionet.org/physiobank/database/sleep-edfx/sleep-cassette//SC4131EC-Hypnogram.edf (4 kB)\n"
     ]
    },
    {
     "data": {
      "application/vnd.jupyter.widget-view+json": {
       "model_id": "0041a01d14bc49c9b7d0c7475d96822c",
       "version_major": 2,
       "version_minor": 0
      },
      "text/plain": [
       "HBox(children=(FloatProgress(value=0.0, description='Downloading', max=4442.0, style=ProgressStyle(description…"
      ]
     },
     "metadata": {},
     "output_type": "display_data"
    },
    {
     "name": "stdout",
     "output_type": "stream",
     "text": [
      "\n",
      "Verifying hash 5beef85170bdbb5cf2eea24a79f0f5c2c3975c4b.\n",
      "Downloading https://physionet.org/physiobank/database/sleep-edfx/sleep-cassette//SC4141E0-PSG.edf (47.9 MB)\n"
     ]
    },
    {
     "data": {
      "application/vnd.jupyter.widget-view+json": {
       "model_id": "e6e347e1b23f452da0e5ff16030e7a78",
       "version_major": 2,
       "version_minor": 0
      },
      "text/plain": [
       "HBox(children=(FloatProgress(value=0.0, description='Downloading', max=50271488.0, style=ProgressStyle(descrip…"
      ]
     },
     "metadata": {},
     "output_type": "display_data"
    },
    {
     "name": "stdout",
     "output_type": "stream",
     "text": [
      "\n",
      "Verifying hash 83493e1c32d441c9e5ee3de6a024bfb5e7ab9f5f.\n",
      "Downloading https://physionet.org/physiobank/database/sleep-edfx/sleep-cassette//SC4141EU-Hypnogram.edf (4 kB)\n"
     ]
    },
    {
     "data": {
      "application/vnd.jupyter.widget-view+json": {
       "model_id": "e956d43bc39b459bad65d0a099ce1805",
       "version_major": 2,
       "version_minor": 0
      },
      "text/plain": [
       "HBox(children=(FloatProgress(value=0.0, description='Downloading', max=3774.0, style=ProgressStyle(description…"
      ]
     },
     "metadata": {},
     "output_type": "display_data"
    },
    {
     "name": "stdout",
     "output_type": "stream",
     "text": [
      "\n",
      "Verifying hash 511d398f22b9b2b304de27c40740a41584ff6af2.\n",
      "Downloading https://physionet.org/physiobank/database/sleep-edfx/sleep-cassette//SC4142E0-PSG.edf (48.3 MB)\n"
     ]
    },
    {
     "data": {
      "application/vnd.jupyter.widget-view+json": {
       "model_id": "0ca0e177f4f24ceeb1b858db2de7fd4f",
       "version_major": 2,
       "version_minor": 0
      },
      "text/plain": [
       "HBox(children=(FloatProgress(value=0.0, description='Downloading', max=50599808.0, style=ProgressStyle(descrip…"
      ]
     },
     "metadata": {},
     "output_type": "display_data"
    },
    {
     "name": "stdout",
     "output_type": "stream",
     "text": [
      "\n",
      "Verifying hash 63d13828b7ebe0d2ed7f491d2b5520e928b9b55d.\n",
      "Downloading https://physionet.org/physiobank/database/sleep-edfx/sleep-cassette//SC4142EU-Hypnogram.edf (4 kB)\n"
     ]
    },
    {
     "data": {
      "application/vnd.jupyter.widget-view+json": {
       "model_id": "b1382ed7e0eb45c6a7ff9800ef94610c",
       "version_major": 2,
       "version_minor": 0
      },
      "text/plain": [
       "HBox(children=(FloatProgress(value=0.0, description='Downloading', max=3826.0, style=ProgressStyle(description…"
      ]
     },
     "metadata": {},
     "output_type": "display_data"
    },
    {
     "name": "stdout",
     "output_type": "stream",
     "text": [
      "\n",
      "Verifying hash 6f123e6fdc90a01b83e694d9744a6d27f3c87b25.\n",
      "Using default location ~/mne_data for PHYSIONET_SLEEP...\n",
      "Downloading https://physionet.org/physiobank/database/sleep-edfx/sleep-cassette//SC4151E0-PSG.edf (45.6 MB)\n"
     ]
    },
    {
     "data": {
      "application/vnd.jupyter.widget-view+json": {
       "model_id": "bc589bb64ea14cda9e5a8a913a89a982",
       "version_major": 2,
       "version_minor": 0
      },
      "text/plain": [
       "HBox(children=(FloatProgress(value=0.0, description='Downloading', max=47790848.0, style=ProgressStyle(descrip…"
      ]
     },
     "metadata": {},
     "output_type": "display_data"
    },
    {
     "name": "stdout",
     "output_type": "stream",
     "text": [
      "\n",
      "Verifying hash 5a92d49699d4de369d66d9462e91b0dcb3312649.\n",
      "Downloading https://physionet.org/physiobank/database/sleep-edfx/sleep-cassette//SC4151EC-Hypnogram.edf (3 kB)\n"
     ]
    },
    {
     "data": {
      "application/vnd.jupyter.widget-view+json": {
       "model_id": "b276fd1f2d85407598190c8f65e822bc",
       "version_major": 2,
       "version_minor": 0
      },
      "text/plain": [
       "HBox(children=(FloatProgress(value=0.0, description='Downloading', max=3164.0, style=ProgressStyle(description…"
      ]
     },
     "metadata": {},
     "output_type": "display_data"
    },
    {
     "name": "stdout",
     "output_type": "stream",
     "text": [
      "\n",
      "Verifying hash 37dcbd339c95322d028b3a5466812697041cc373.\n",
      "Downloading https://physionet.org/physiobank/database/sleep-edfx/sleep-cassette//SC4152E0-PSG.edf (49.8 MB)\n"
     ]
    },
    {
     "data": {
      "application/vnd.jupyter.widget-view+json": {
       "model_id": "3f10ede808404c588f29c9e345f8f386",
       "version_major": 2,
       "version_minor": 0
      },
      "text/plain": [
       "HBox(children=(FloatProgress(value=0.0, description='Downloading', max=52241408.0, style=ProgressStyle(descrip…"
      ]
     },
     "metadata": {},
     "output_type": "display_data"
    },
    {
     "name": "stdout",
     "output_type": "stream",
     "text": [
      "\n",
      "Verifying hash 778626489bc4fe2c9137d2d361876d97dce97e5e.\n",
      "Downloading https://physionet.org/physiobank/database/sleep-edfx/sleep-cassette//SC4152EC-Hypnogram.edf (3 kB)\n"
     ]
    },
    {
     "data": {
      "application/vnd.jupyter.widget-view+json": {
       "model_id": "9433867c62f44d4992637ee54d59ab68",
       "version_major": 2,
       "version_minor": 0
      },
      "text/plain": [
       "HBox(children=(FloatProgress(value=0.0, description='Downloading', max=3394.0, style=ProgressStyle(description…"
      ]
     },
     "metadata": {},
     "output_type": "display_data"
    },
    {
     "name": "stdout",
     "output_type": "stream",
     "text": [
      "\n",
      "Verifying hash 294cdc47cd3d165031f7041c17f18dd013d216cb.\n",
      "Downloading https://physionet.org/physiobank/database/sleep-edfx/sleep-cassette//SC4161E0-PSG.edf (45.7 MB)\n"
     ]
    },
    {
     "data": {
      "application/vnd.jupyter.widget-view+json": {
       "model_id": "a7f3b9e4b47c4abcb8eb47706c63dd85",
       "version_major": 2,
       "version_minor": 0
      },
      "text/plain": [
       "HBox(children=(FloatProgress(value=0.0, description='Downloading', max=47900288.0, style=ProgressStyle(descrip…"
      ]
     },
     "metadata": {},
     "output_type": "display_data"
    },
    {
     "name": "stdout",
     "output_type": "stream",
     "text": [
      "\n",
      "Verifying hash e56ff3aa366fe9a04a0fdfdd4cd862e77e8ac807.\n",
      "Downloading https://physionet.org/physiobank/database/sleep-edfx/sleep-cassette//SC4161EC-Hypnogram.edf (5 kB)\n"
     ]
    },
    {
     "data": {
      "application/vnd.jupyter.widget-view+json": {
       "model_id": "48d9eb48b62c4cd6a15bb0302b9c7fd9",
       "version_major": 2,
       "version_minor": 0
      },
      "text/plain": [
       "HBox(children=(FloatProgress(value=0.0, description='Downloading', max=4656.0, style=ProgressStyle(description…"
      ]
     },
     "metadata": {},
     "output_type": "display_data"
    },
    {
     "name": "stdout",
     "output_type": "stream",
     "text": [
      "\n",
      "Verifying hash 56711b1bfed292032491f5cce57494629286a131.\n",
      "Downloading https://physionet.org/physiobank/database/sleep-edfx/sleep-cassette//SC4162E0-PSG.edf (47.9 MB)\n"
     ]
    },
    {
     "data": {
      "application/vnd.jupyter.widget-view+json": {
       "model_id": "87edb557de554231a2cac7d19293ccd9",
       "version_major": 2,
       "version_minor": 0
      },
      "text/plain": [
       "HBox(children=(FloatProgress(value=0.0, description='Downloading', max=50198528.0, style=ProgressStyle(descrip…"
      ]
     },
     "metadata": {},
     "output_type": "display_data"
    },
    {
     "name": "stdout",
     "output_type": "stream",
     "text": [
      "\n",
      "Verifying hash 722692f9940f3a1bccb9b4488c4477edf7fb128f.\n",
      "Downloading https://physionet.org/physiobank/database/sleep-edfx/sleep-cassette//SC4162EC-Hypnogram.edf (4 kB)\n"
     ]
    },
    {
     "data": {
      "application/vnd.jupyter.widget-view+json": {
       "model_id": "4d98bfda4e164fb5ac03bc32ba2d6ee6",
       "version_major": 2,
       "version_minor": 0
      },
      "text/plain": [
       "HBox(children=(FloatProgress(value=0.0, description='Downloading', max=4120.0, style=ProgressStyle(description…"
      ]
     },
     "metadata": {},
     "output_type": "display_data"
    },
    {
     "name": "stdout",
     "output_type": "stream",
     "text": [
      "\n",
      "Verifying hash c85647fb4bc1f382fe46bf9aaf579dc483115885.\n",
      "Downloading https://physionet.org/physiobank/database/sleep-edfx/sleep-cassette//SC4171E0-PSG.edf (47.7 MB)\n"
     ]
    },
    {
     "data": {
      "application/vnd.jupyter.widget-view+json": {
       "model_id": "d8fac0c0038240129cf65df9c7b579e2",
       "version_major": 2,
       "version_minor": 0
      },
      "text/plain": [
       "HBox(children=(FloatProgress(value=0.0, description='Downloading', max=50016128.0, style=ProgressStyle(descrip…"
      ]
     },
     "metadata": {},
     "output_type": "display_data"
    },
    {
     "name": "stdout",
     "output_type": "stream",
     "text": [
      "\n",
      "Verifying hash f1a65522cb7d6c71ac47742535a12c88e2019dad.\n",
      "Downloading https://physionet.org/physiobank/database/sleep-edfx/sleep-cassette//SC4171EU-Hypnogram.edf (5 kB)\n"
     ]
    },
    {
     "data": {
      "application/vnd.jupyter.widget-view+json": {
       "model_id": "acce04a099954986a206f0f2a6bd28fd",
       "version_major": 2,
       "version_minor": 0
      },
      "text/plain": [
       "HBox(children=(FloatProgress(value=0.0, description='Downloading', max=5380.0, style=ProgressStyle(description…"
      ]
     },
     "metadata": {},
     "output_type": "display_data"
    },
    {
     "name": "stdout",
     "output_type": "stream",
     "text": [
      "\n",
      "Verifying hash dd257c8d922f08c2c8ca5236c9bf54da887c68e5.\n",
      "Downloading https://physionet.org/physiobank/database/sleep-edfx/sleep-cassette//SC4172E0-PSG.edf (47.4 MB)\n"
     ]
    },
    {
     "data": {
      "application/vnd.jupyter.widget-view+json": {
       "model_id": "92c2090adc334bf1b91b1f6e98f3a728",
       "version_major": 2,
       "version_minor": 0
      },
      "text/plain": [
       "HBox(children=(FloatProgress(value=0.0, description='Downloading', max=49687808.0, style=ProgressStyle(descrip…"
      ]
     },
     "metadata": {},
     "output_type": "display_data"
    },
    {
     "name": "stdout",
     "output_type": "stream",
     "text": [
      "\n",
      "Verifying hash 572b81bc24c2c9482e6fc7ba9202a7bf253655e1.\n",
      "Downloading https://physionet.org/physiobank/database/sleep-edfx/sleep-cassette//SC4172EC-Hypnogram.edf (5 kB)\n"
     ]
    },
    {
     "data": {
      "application/vnd.jupyter.widget-view+json": {
       "model_id": "1c533094508f44aaa0576a71b79d1e15",
       "version_major": 2,
       "version_minor": 0
      },
      "text/plain": [
       "HBox(children=(FloatProgress(value=0.0, description='Downloading', max=5560.0, style=ProgressStyle(description…"
      ]
     },
     "metadata": {},
     "output_type": "display_data"
    },
    {
     "name": "stdout",
     "output_type": "stream",
     "text": [
      "\n",
      "Verifying hash c9a3b590748d7d6c7ad97c62222bd53d8ebaf630.\n",
      "Downloading https://physionet.org/physiobank/database/sleep-edfx/sleep-cassette//SC4181E0-PSG.edf (47.9 MB)\n"
     ]
    },
    {
     "data": {
      "application/vnd.jupyter.widget-view+json": {
       "model_id": "4d193f5e852a41849930fdb49475565e",
       "version_major": 2,
       "version_minor": 0
      },
      "text/plain": [
       "HBox(children=(FloatProgress(value=0.0, description='Downloading', max=50271488.0, style=ProgressStyle(descrip…"
      ]
     },
     "metadata": {},
     "output_type": "display_data"
    },
    {
     "name": "stdout",
     "output_type": "stream",
     "text": [
      "\n",
      "Verifying hash 23674d20572853eb6d988d24378c52123f66500c.\n",
      "Downloading https://physionet.org/physiobank/database/sleep-edfx/sleep-cassette//SC4181EC-Hypnogram.edf (5 kB)\n"
     ]
    },
    {
     "data": {
      "application/vnd.jupyter.widget-view+json": {
       "model_id": "44a522adce57441e97793bbfecf6b968",
       "version_major": 2,
       "version_minor": 0
      },
      "text/plain": [
       "HBox(children=(FloatProgress(value=0.0, description='Downloading', max=4806.0, style=ProgressStyle(description…"
      ]
     },
     "metadata": {},
     "output_type": "display_data"
    },
    {
     "name": "stdout",
     "output_type": "stream",
     "text": [
      "\n",
      "Verifying hash 51fc3df2df7d4da654f3e18ed1b233d0c60cfa80.\n",
      "Downloading https://physionet.org/physiobank/database/sleep-edfx/sleep-cassette//SC4182E0-PSG.edf (49.4 MB)\n"
     ]
    },
    {
     "data": {
      "application/vnd.jupyter.widget-view+json": {
       "model_id": "8c8bddf3f5f442858f279e3c0a7365f7",
       "version_major": 2,
       "version_minor": 0
      },
      "text/plain": [
       "HBox(children=(FloatProgress(value=0.0, description='Downloading', max=51840128.0, style=ProgressStyle(descrip…"
      ]
     },
     "metadata": {},
     "output_type": "display_data"
    },
    {
     "name": "stdout",
     "output_type": "stream",
     "text": [
      "\n",
      "Verifying hash 83e8cbe882ba863da9fd3c11393c95b6fec5b7a5.\n",
      "Downloading https://physionet.org/physiobank/database/sleep-edfx/sleep-cassette//SC4182EC-Hypnogram.edf (3 kB)\n"
     ]
    },
    {
     "data": {
      "application/vnd.jupyter.widget-view+json": {
       "model_id": "12d396c7c6814ef7889d16e12011e13e",
       "version_major": 2,
       "version_minor": 0
      },
      "text/plain": [
       "HBox(children=(FloatProgress(value=0.0, description='Downloading', max=3414.0, style=ProgressStyle(description…"
      ]
     },
     "metadata": {},
     "output_type": "display_data"
    },
    {
     "name": "stdout",
     "output_type": "stream",
     "text": [
      "\n",
      "Verifying hash 43c487955edddb4ee2f60193a097c68c25c5dd4d.\n",
      "Downloading https://physionet.org/physiobank/database/sleep-edfx/sleep-cassette//SC4191E0-PSG.edf (48.3 MB)\n"
     ]
    },
    {
     "data": {
      "application/vnd.jupyter.widget-view+json": {
       "model_id": "4ab140b8bed441f3967e51bd5f46c59d",
       "version_major": 2,
       "version_minor": 0
      },
      "text/plain": [
       "HBox(children=(FloatProgress(value=0.0, description='Downloading', max=50599808.0, style=ProgressStyle(descrip…"
      ]
     },
     "metadata": {},
     "output_type": "display_data"
    },
    {
     "name": "stdout",
     "output_type": "stream",
     "text": [
      "\n",
      "Verifying hash d6da621dbb20dec3494a38c7d2a0363793ac5ebe.\n",
      "Downloading https://physionet.org/physiobank/database/sleep-edfx/sleep-cassette//SC4191EP-Hypnogram.edf (5 kB)\n"
     ]
    },
    {
     "data": {
      "application/vnd.jupyter.widget-view+json": {
       "model_id": "82e078ecd3374b7fa2c7632dc45e8776",
       "version_major": 2,
       "version_minor": 0
      },
      "text/plain": [
       "HBox(children=(FloatProgress(value=0.0, description='Downloading', max=5282.0, style=ProgressStyle(description…"
      ]
     },
     "metadata": {},
     "output_type": "display_data"
    },
    {
     "name": "stdout",
     "output_type": "stream",
     "text": [
      "\n",
      "Verifying hash defc7b9368c2d3c4ab4a294757843825a83cdb5d.\n",
      "Downloading https://physionet.org/physiobank/database/sleep-edfx/sleep-cassette//SC4192E0-PSG.edf (45.4 MB)\n"
     ]
    },
    {
     "data": {
      "application/vnd.jupyter.widget-view+json": {
       "model_id": "157aa323de42491594d7a6ff10c90865",
       "version_major": 2,
       "version_minor": 0
      },
      "text/plain": [
       "HBox(children=(FloatProgress(value=0.0, description='Downloading', max=47608448.0, style=ProgressStyle(descrip…"
      ]
     },
     "metadata": {},
     "output_type": "display_data"
    },
    {
     "name": "stdout",
     "output_type": "stream",
     "text": [
      "\n",
      "Verifying hash 941353118732321d0246a1d58d72e903bd2f0d8f.\n",
      "Downloading https://physionet.org/physiobank/database/sleep-edfx/sleep-cassette//SC4192EV-Hypnogram.edf (4 kB)\n"
     ]
    },
    {
     "data": {
      "application/vnd.jupyter.widget-view+json": {
       "model_id": "e831f2f0894a464ab5f84795031bce9f",
       "version_major": 2,
       "version_minor": 0
      },
      "text/plain": [
       "HBox(children=(FloatProgress(value=0.0, description='Downloading', max=3946.0, style=ProgressStyle(description…"
      ]
     },
     "metadata": {},
     "output_type": "display_data"
    },
    {
     "name": "stdout",
     "output_type": "stream",
     "text": [
      "\n",
      "Verifying hash 97b91b3067c5ecde766042fc2cff9e22f8023371.\n"
     ]
    },
    {
     "data": {
      "text/plain": [
       "[['/home/parietal/sfreybur/mne_data/physionet-sleep-data/SC4151E0-PSG.edf',\n",
       "  '/home/parietal/sfreybur/mne_data/physionet-sleep-data/SC4151EC-Hypnogram.edf'],\n",
       " ['/home/parietal/sfreybur/mne_data/physionet-sleep-data/SC4152E0-PSG.edf',\n",
       "  '/home/parietal/sfreybur/mne_data/physionet-sleep-data/SC4152EC-Hypnogram.edf'],\n",
       " ['/home/parietal/sfreybur/mne_data/physionet-sleep-data/SC4161E0-PSG.edf',\n",
       "  '/home/parietal/sfreybur/mne_data/physionet-sleep-data/SC4161EC-Hypnogram.edf'],\n",
       " ['/home/parietal/sfreybur/mne_data/physionet-sleep-data/SC4162E0-PSG.edf',\n",
       "  '/home/parietal/sfreybur/mne_data/physionet-sleep-data/SC4162EC-Hypnogram.edf'],\n",
       " ['/home/parietal/sfreybur/mne_data/physionet-sleep-data/SC4171E0-PSG.edf',\n",
       "  '/home/parietal/sfreybur/mne_data/physionet-sleep-data/SC4171EU-Hypnogram.edf'],\n",
       " ['/home/parietal/sfreybur/mne_data/physionet-sleep-data/SC4172E0-PSG.edf',\n",
       "  '/home/parietal/sfreybur/mne_data/physionet-sleep-data/SC4172EC-Hypnogram.edf'],\n",
       " ['/home/parietal/sfreybur/mne_data/physionet-sleep-data/SC4181E0-PSG.edf',\n",
       "  '/home/parietal/sfreybur/mne_data/physionet-sleep-data/SC4181EC-Hypnogram.edf'],\n",
       " ['/home/parietal/sfreybur/mne_data/physionet-sleep-data/SC4182E0-PSG.edf',\n",
       "  '/home/parietal/sfreybur/mne_data/physionet-sleep-data/SC4182EC-Hypnogram.edf'],\n",
       " ['/home/parietal/sfreybur/mne_data/physionet-sleep-data/SC4191E0-PSG.edf',\n",
       "  '/home/parietal/sfreybur/mne_data/physionet-sleep-data/SC4191EP-Hypnogram.edf'],\n",
       " ['/home/parietal/sfreybur/mne_data/physionet-sleep-data/SC4192E0-PSG.edf',\n",
       "  '/home/parietal/sfreybur/mne_data/physionet-sleep-data/SC4192EV-Hypnogram.edf']]"
      ]
     },
     "execution_count": 7,
     "metadata": {},
     "output_type": "execute_result"
    }
   ],
   "source": [
    "fetch_data(subjects=list(range(15)))\n",
    "fetch_data(subjects=list(range(15,20)))"
   ]
  },
  {
   "cell_type": "code",
   "execution_count": null,
   "metadata": {},
   "outputs": [],
   "source": []
  }
 ],
 "metadata": {
  "kernelspec": {
   "display_name": "Python 3",
   "language": "python",
   "name": "python3"
  },
  "language_info": {
   "codemirror_mode": {
    "name": "ipython",
    "version": 3
   },
   "file_extension": ".py",
   "mimetype": "text/x-python",
   "name": "python",
   "nbconvert_exporter": "python",
   "pygments_lexer": "ipython3",
   "version": "3.7.7"
  }
 },
 "nbformat": 4,
 "nbformat_minor": 4
}
