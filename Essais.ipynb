{
 "cells": [
  {
   "cell_type": "code",
   "execution_count": 1,
   "metadata": {},
   "outputs": [
    {
     "name": "stdout",
     "output_type": "stream",
     "text": [
      "Using default location ~/mne_data for PHYSIONET_SLEEP...\n"
     ]
    }
   ],
   "source": [
    "from mne.datasets.sleep_physionet.age import fetch_data\n",
    "ALICE, BOB = 0, 1\n",
    "[alice_files, bob_files] = fetch_data(subjects=[ALICE, BOB], recording=[1])"
   ]
  },
  {
   "cell_type": "code",
   "execution_count": 2,
   "metadata": {},
   "outputs": [],
   "source": [
    "class a:\n",
    "    def __init__(self, blou):\n",
    "        self.blou = blou"
   ]
  },
  {
   "cell_type": "code",
   "execution_count": 3,
   "metadata": {},
   "outputs": [],
   "source": [
    "bli = a(5)"
   ]
  },
  {
   "cell_type": "code",
   "execution_count": 17,
   "metadata": {},
   "outputs": [],
   "source": [
    "class b:\n",
    "    def __init__(self, a, blu):\n",
    "        self = a\n",
    "        self.bli = blu"
   ]
  },
  {
   "cell_type": "code",
   "execution_count": 18,
   "metadata": {},
   "outputs": [
    {
     "ename": "TypeError",
     "evalue": "__init__() should return None, not 'a'",
     "output_type": "error",
     "traceback": [
      "\u001b[0;31m---------------------------------------------------------------------------\u001b[0m",
      "\u001b[0;31mTypeError\u001b[0m                                 Traceback (most recent call last)",
      "\u001b[0;32m<ipython-input-18-68eaad77443e>\u001b[0m in \u001b[0;36m<module>\u001b[0;34m\u001b[0m\n\u001b[0;32m----> 1\u001b[0;31m \u001b[0mk\u001b[0m \u001b[0;34m=\u001b[0m \u001b[0mb\u001b[0m\u001b[0;34m(\u001b[0m\u001b[0mbli\u001b[0m\u001b[0;34m,\u001b[0m \u001b[0;36m5\u001b[0m\u001b[0;34m)\u001b[0m\u001b[0;34m\u001b[0m\u001b[0;34m\u001b[0m\u001b[0m\n\u001b[0m",
      "\u001b[0;31mTypeError\u001b[0m: __init__() should return None, not 'a'"
     ]
    }
   ],
   "source": [
    "k = b(bli, 5)"
   ]
  },
  {
   "cell_type": "code",
   "execution_count": 19,
   "metadata": {},
   "outputs": [
    {
     "ename": "AttributeError",
     "evalue": "'b' object has no attribute 'bli'",
     "output_type": "error",
     "traceback": [
      "\u001b[0;31m---------------------------------------------------------------------------\u001b[0m",
      "\u001b[0;31mAttributeError\u001b[0m                            Traceback (most recent call last)",
      "\u001b[0;32m<ipython-input-19-bee5a7917476>\u001b[0m in \u001b[0;36m<module>\u001b[0;34m\u001b[0m\n\u001b[0;32m----> 1\u001b[0;31m \u001b[0mk\u001b[0m\u001b[0;34m.\u001b[0m\u001b[0mbli\u001b[0m\u001b[0;34m\u001b[0m\u001b[0;34m\u001b[0m\u001b[0m\n\u001b[0m",
      "\u001b[0;31mAttributeError\u001b[0m: 'b' object has no attribute 'bli'"
     ]
    }
   ],
   "source": [
    "k.bli"
   ]
  },
  {
   "cell_type": "code",
   "execution_count": 1,
   "metadata": {},
   "outputs": [
    {
     "ename": "ImportError",
     "evalue": "cannot import name 'datautil' from 'braindecode.datautil.transform_side_funcs' (/storage/store/work/sfreybur/braindecode/braindecode/datautil/transform_side_funcs.py)",
     "output_type": "error",
     "traceback": [
      "\u001b[0;31m---------------------------------------------------------------------------\u001b[0m",
      "\u001b[0;31mImportError\u001b[0m                               Traceback (most recent call last)",
      "\u001b[0;32m<ipython-input-1-1c7de0675c2e>\u001b[0m in \u001b[0;36m<module>\u001b[0;34m\u001b[0m\n\u001b[0;32m----> 1\u001b[0;31m \u001b[0;32mfrom\u001b[0m \u001b[0mbraindecode\u001b[0m\u001b[0;34m.\u001b[0m\u001b[0mdatautil\u001b[0m\u001b[0;34m.\u001b[0m\u001b[0mtransform\u001b[0m \u001b[0;32mimport\u001b[0m \u001b[0mPolicy\u001b[0m\u001b[0;34m\u001b[0m\u001b[0;34m\u001b[0m\u001b[0m\n\u001b[0m",
      "\u001b[0;32m/storage/store/work/sfreybur/braindecode/braindecode/datautil/transform.py\u001b[0m in \u001b[0;36m<module>\u001b[0;34m\u001b[0m\n\u001b[1;32m      3\u001b[0m \u001b[0;32mimport\u001b[0m \u001b[0mtorchaudio\u001b[0m\u001b[0;34m\u001b[0m\u001b[0;34m\u001b[0m\u001b[0m\n\u001b[1;32m      4\u001b[0m \u001b[0;34m\u001b[0m\u001b[0m\n\u001b[0;32m----> 5\u001b[0;31m \u001b[0;32mfrom\u001b[0m \u001b[0;34m.\u001b[0m\u001b[0mtransform_side_funcs\u001b[0m \u001b[0;32mimport\u001b[0m \u001b[0mdatautil\u001b[0m\u001b[0;34m\u001b[0m\u001b[0;34m\u001b[0m\u001b[0m\n\u001b[0m\u001b[1;32m      6\u001b[0m \u001b[0;34m\u001b[0m\u001b[0m\n\u001b[1;32m      7\u001b[0m \u001b[0;32mclass\u001b[0m \u001b[0mPolicy\u001b[0m\u001b[0;34m:\u001b[0m\u001b[0;34m\u001b[0m\u001b[0;34m\u001b[0m\u001b[0m\n",
      "\u001b[0;31mImportError\u001b[0m: cannot import name 'datautil' from 'braindecode.datautil.transform_side_funcs' (/storage/store/work/sfreybur/braindecode/braindecode/datautil/transform_side_funcs.py)"
     ]
    }
   ],
   "source": [
    "from braindecode.datautil.transform import Policy"
   ]
  },
  {
   "cell_type": "code",
   "execution_count": 2,
   "metadata": {},
   "outputs": [
    {
     "name": "stdout",
     "output_type": "stream",
     "text": [
      "Using default location ~/mne_data for PHYSIONET_SLEEP...\n",
      "Using default location ~/mne_data for PHYSIONET_SLEEP...\n"
     ]
    },
    {
     "data": {
      "text/plain": [
       "[['/home/parietal/sfreybur/mne_data/physionet-sleep-data/SC4151E0-PSG.edf',\n",
       "  '/home/parietal/sfreybur/mne_data/physionet-sleep-data/SC4151EC-Hypnogram.edf'],\n",
       " ['/home/parietal/sfreybur/mne_data/physionet-sleep-data/SC4152E0-PSG.edf',\n",
       "  '/home/parietal/sfreybur/mne_data/physionet-sleep-data/SC4152EC-Hypnogram.edf'],\n",
       " ['/home/parietal/sfreybur/mne_data/physionet-sleep-data/SC4161E0-PSG.edf',\n",
       "  '/home/parietal/sfreybur/mne_data/physionet-sleep-data/SC4161EC-Hypnogram.edf'],\n",
       " ['/home/parietal/sfreybur/mne_data/physionet-sleep-data/SC4162E0-PSG.edf',\n",
       "  '/home/parietal/sfreybur/mne_data/physionet-sleep-data/SC4162EC-Hypnogram.edf'],\n",
       " ['/home/parietal/sfreybur/mne_data/physionet-sleep-data/SC4171E0-PSG.edf',\n",
       "  '/home/parietal/sfreybur/mne_data/physionet-sleep-data/SC4171EU-Hypnogram.edf'],\n",
       " ['/home/parietal/sfreybur/mne_data/physionet-sleep-data/SC4172E0-PSG.edf',\n",
       "  '/home/parietal/sfreybur/mne_data/physionet-sleep-data/SC4172EC-Hypnogram.edf'],\n",
       " ['/home/parietal/sfreybur/mne_data/physionet-sleep-data/SC4181E0-PSG.edf',\n",
       "  '/home/parietal/sfreybur/mne_data/physionet-sleep-data/SC4181EC-Hypnogram.edf'],\n",
       " ['/home/parietal/sfreybur/mne_data/physionet-sleep-data/SC4182E0-PSG.edf',\n",
       "  '/home/parietal/sfreybur/mne_data/physionet-sleep-data/SC4182EC-Hypnogram.edf'],\n",
       " ['/home/parietal/sfreybur/mne_data/physionet-sleep-data/SC4191E0-PSG.edf',\n",
       "  '/home/parietal/sfreybur/mne_data/physionet-sleep-data/SC4191EP-Hypnogram.edf'],\n",
       " ['/home/parietal/sfreybur/mne_data/physionet-sleep-data/SC4192E0-PSG.edf',\n",
       "  '/home/parietal/sfreybur/mne_data/physionet-sleep-data/SC4192EV-Hypnogram.edf']]"
      ]
     },
     "execution_count": 2,
     "metadata": {},
     "output_type": "execute_result"
    }
   ],
   "source": [
    "fetch_data(subjects=list(range(15)))\n",
    "fetch_data(subjects=list(range(15,20)))"
   ]
  },
  {
   "cell_type": "code",
   "execution_count": 3,
   "metadata": {},
   "outputs": [],
   "source": [
    "import mne\n",
    "%load_ext autoreload\n",
    "%autoreload 2\n",
    "from ml_vs_dl import get_epochs_data, create_from_mne_epochs\n",
    "import braindecode.datautil"
   ]
  },
  {
   "cell_type": "code",
   "execution_count": 3,
   "metadata": {},
   "outputs": [],
   "source": [
    "train, test = get_epochs_data(train_subjects=[0], test_subjects=[1])"
   ]
  },
  {
   "cell_type": "code",
   "execution_count": 1,
   "metadata": {},
   "outputs": [
    {
     "ename": "NameError",
     "evalue": "name 'create_from_mne_epochs' is not defined",
     "output_type": "error",
     "traceback": [
      "\u001b[0;31m---------------------------------------------------------------------------\u001b[0m",
      "\u001b[0;31mNameError\u001b[0m                                 Traceback (most recent call last)",
      "\u001b[0;32m<ipython-input-1-68044c0aa521>\u001b[0m in \u001b[0;36m<module>\u001b[0;34m\u001b[0m\n\u001b[0;32m----> 1\u001b[0;31m train_sample = create_from_mne_epochs(\n\u001b[0m\u001b[1;32m      2\u001b[0m     \u001b[0mtrain\u001b[0m\u001b[0;34m,\u001b[0m\u001b[0;34m\u001b[0m\u001b[0;34m\u001b[0m\u001b[0m\n\u001b[1;32m      3\u001b[0m     \u001b[0mwindow_size_samples\u001b[0m\u001b[0;34m=\u001b[0m\u001b[0;36m3000\u001b[0m\u001b[0;34m,\u001b[0m\u001b[0;34m\u001b[0m\u001b[0;34m\u001b[0m\u001b[0m\n\u001b[1;32m      4\u001b[0m     \u001b[0mwindow_stride_samples\u001b[0m\u001b[0;34m=\u001b[0m\u001b[0;36m3000\u001b[0m\u001b[0;34m,\u001b[0m\u001b[0;34m\u001b[0m\u001b[0;34m\u001b[0m\u001b[0m\n\u001b[1;32m      5\u001b[0m     drop_last_window=False)\n",
      "\u001b[0;31mNameError\u001b[0m: name 'create_from_mne_epochs' is not defined"
     ]
    }
   ],
   "source": [
    "train_sample = create_from_mne_epochs(\n",
    "    train,\n",
    "    window_size_samples=3000,\n",
    "    window_stride_samples=3000,\n",
    "    drop_last_window=False)\n",
    "\n",
    "test_sample = create_from_mne_epochs(\n",
    "    test, window_size_samples=3000,\n",
    "    window_stride_samples=3000,\n",
    "    drop_last_window=False)"
   ]
  },
  {
   "cell_type": "code",
   "execution_count": 2,
   "metadata": {},
   "outputs": [
    {
     "ename": "NameError",
     "evalue": "name 'train_sample' is not defined",
     "output_type": "error",
     "traceback": [
      "\u001b[0;31m---------------------------------------------------------------------------\u001b[0m",
      "\u001b[0;31mNameError\u001b[0m                                 Traceback (most recent call last)",
      "\u001b[0;32m<ipython-input-2-5ac7f4fbd3de>\u001b[0m in \u001b[0;36m<module>\u001b[0;34m\u001b[0m\n\u001b[0;32m----> 1\u001b[0;31m \u001b[0mtrain_sample\u001b[0m\u001b[0;34m\u001b[0m\u001b[0;34m\u001b[0m\u001b[0m\n\u001b[0m",
      "\u001b[0;31mNameError\u001b[0m: name 'train_sample' is not defined"
     ]
    }
   ],
   "source": [
    "train_sample"
   ]
  },
  {
   "cell_type": "code",
   "execution_count": 1,
   "metadata": {},
   "outputs": [
    {
     "ename": "ImportError",
     "evalue": "cannot import name '_check_windowing_arguments' from 'braindecode.datautil.windowers' (/home/parietal/sfreybur/miniconda3/lib/python3.7/site-packages/braindecode/datautil/windowers.py)",
     "output_type": "error",
     "traceback": [
      "\u001b[0;31m---------------------------------------------------------------------------\u001b[0m",
      "\u001b[0;31mImportError\u001b[0m                               Traceback (most recent call last)",
      "\u001b[0;32m<ipython-input-1-0c16bacdda2e>\u001b[0m in \u001b[0;36m<module>\u001b[0;34m\u001b[0m\n\u001b[1;32m      1\u001b[0m \u001b[0;32mimport\u001b[0m \u001b[0msys\u001b[0m\u001b[0;34m\u001b[0m\u001b[0;34m\u001b[0m\u001b[0m\n\u001b[1;32m      2\u001b[0m \u001b[0msys\u001b[0m\u001b[0;34m.\u001b[0m\u001b[0mpath\u001b[0m\u001b[0;34m.\u001b[0m\u001b[0minsert\u001b[0m\u001b[0;34m(\u001b[0m\u001b[0;36m1\u001b[0m\u001b[0;34m,\u001b[0m \u001b[0;34m'/storage/store/work/sfreybur/'\u001b[0m\u001b[0;34m)\u001b[0m\u001b[0;34m\u001b[0m\u001b[0;34m\u001b[0m\u001b[0m\n\u001b[0;32m----> 3\u001b[0;31m \u001b[0;32mimport\u001b[0m \u001b[0mbraindecode\u001b[0m\u001b[0;34m.\u001b[0m\u001b[0mdatautil\u001b[0m\u001b[0;34m\u001b[0m\u001b[0;34m\u001b[0m\u001b[0m\n\u001b[0m",
      "\u001b[0;32m~/miniconda3/lib/python3.7/site-packages/braindecode/datautil/__init__.py\u001b[0m in \u001b[0;36m<module>\u001b[0;34m\u001b[0m\n\u001b[1;32m      3\u001b[0m \"\"\"\n\u001b[1;32m      4\u001b[0m \u001b[0;34m\u001b[0m\u001b[0m\n\u001b[0;32m----> 5\u001b[0;31m \u001b[0;32mfrom\u001b[0m \u001b[0;34m.\u001b[0m\u001b[0mwindowers\u001b[0m \u001b[0;32mimport\u001b[0m \u001b[0mcreate_windows_from_events\u001b[0m\u001b[0;34m,\u001b[0m \u001b[0mcreate_fixed_length_windows\u001b[0m\u001b[0;34m\u001b[0m\u001b[0;34m\u001b[0m\u001b[0m\n\u001b[0m\u001b[1;32m      6\u001b[0m \u001b[0;32mfrom\u001b[0m \u001b[0;34m.\u001b[0m\u001b[0mpreprocess\u001b[0m \u001b[0;32mimport\u001b[0m \u001b[0mzscore\u001b[0m\u001b[0;34m,\u001b[0m \u001b[0mscale\u001b[0m\u001b[0;34m,\u001b[0m \u001b[0mexponential_moving_demean\u001b[0m\u001b[0;34m,\u001b[0m \u001b[0mexponential_moving_standardize\u001b[0m\u001b[0;34m\u001b[0m\u001b[0;34m\u001b[0m\u001b[0m\n",
      "\u001b[0;32m~/miniconda3/lib/python3.7/site-packages/braindecode/datautil/windowers.py\u001b[0m in \u001b[0;36m<module>\u001b[0;34m\u001b[0m\n\u001b[1;32m     13\u001b[0m \u001b[0;32mimport\u001b[0m \u001b[0mpandas\u001b[0m \u001b[0;32mas\u001b[0m \u001b[0mpd\u001b[0m\u001b[0;34m\u001b[0m\u001b[0;34m\u001b[0m\u001b[0m\n\u001b[1;32m     14\u001b[0m \u001b[0;34m\u001b[0m\u001b[0m\n\u001b[0;32m---> 15\u001b[0;31m \u001b[0;32mfrom\u001b[0m \u001b[0;34m.\u001b[0m\u001b[0;34m.\u001b[0m\u001b[0mdatasets\u001b[0m\u001b[0;34m.\u001b[0m\u001b[0mbase\u001b[0m \u001b[0;32mimport\u001b[0m \u001b[0mWindowsDataset\u001b[0m\u001b[0;34m,\u001b[0m \u001b[0mBaseConcatDataset\u001b[0m\u001b[0;34m\u001b[0m\u001b[0;34m\u001b[0m\u001b[0m\n\u001b[0m\u001b[1;32m     16\u001b[0m \u001b[0;34m\u001b[0m\u001b[0m\n\u001b[1;32m     17\u001b[0m \u001b[0;34m\u001b[0m\u001b[0m\n",
      "\u001b[0;32m~/miniconda3/lib/python3.7/site-packages/braindecode/datasets/__init__.py\u001b[0m in \u001b[0;36m<module>\u001b[0;34m\u001b[0m\n\u001b[1;32m      5\u001b[0m \u001b[0;32mfrom\u001b[0m \u001b[0;34m.\u001b[0m\u001b[0mmoabb\u001b[0m \u001b[0;32mimport\u001b[0m \u001b[0mMOABBDataset\u001b[0m\u001b[0;34m\u001b[0m\u001b[0;34m\u001b[0m\u001b[0m\n\u001b[1;32m      6\u001b[0m \u001b[0;32mfrom\u001b[0m \u001b[0;34m.\u001b[0m\u001b[0mtuh\u001b[0m \u001b[0;32mimport\u001b[0m \u001b[0mTUHAbnormal\u001b[0m\u001b[0;34m\u001b[0m\u001b[0;34m\u001b[0m\u001b[0m\n\u001b[0;32m----> 7\u001b[0;31m \u001b[0;32mfrom\u001b[0m \u001b[0;34m.\u001b[0m\u001b[0mmne\u001b[0m \u001b[0;32mimport\u001b[0m \u001b[0mcreate_from_mne_raw\u001b[0m\u001b[0;34m,\u001b[0m \u001b[0mcreate_from_mne_epochs\u001b[0m\u001b[0;34m\u001b[0m\u001b[0;34m\u001b[0m\u001b[0m\n\u001b[0m\u001b[1;32m      8\u001b[0m \u001b[0;32mfrom\u001b[0m \u001b[0;34m.\u001b[0m\u001b[0mxy\u001b[0m \u001b[0;32mimport\u001b[0m \u001b[0mcreate_from_X_y\u001b[0m\u001b[0;34m\u001b[0m\u001b[0;34m\u001b[0m\u001b[0m\n",
      "\u001b[0;32m~/miniconda3/lib/python3.7/site-packages/braindecode/datasets/mne.py\u001b[0m in \u001b[0;36m<module>\u001b[0;34m\u001b[0m\n\u001b[1;32m      4\u001b[0m \u001b[0;34m\u001b[0m\u001b[0m\n\u001b[1;32m      5\u001b[0m \u001b[0;32mfrom\u001b[0m \u001b[0;34m.\u001b[0m\u001b[0mbase\u001b[0m \u001b[0;32mimport\u001b[0m \u001b[0mBaseDataset\u001b[0m\u001b[0;34m,\u001b[0m \u001b[0mBaseConcatDataset\u001b[0m\u001b[0;34m,\u001b[0m \u001b[0mWindowsDataset\u001b[0m\u001b[0;34m\u001b[0m\u001b[0;34m\u001b[0m\u001b[0m\n\u001b[0;32m----> 6\u001b[0;31m from ..datautil.windowers import (\n\u001b[0m\u001b[1;32m      7\u001b[0m     _check_windowing_arguments, create_windows_from_events)\n\u001b[1;32m      8\u001b[0m \u001b[0;34m\u001b[0m\u001b[0m\n",
      "\u001b[0;31mImportError\u001b[0m: cannot import name '_check_windowing_arguments' from 'braindecode.datautil.windowers' (/home/parietal/sfreybur/miniconda3/lib/python3.7/site-packages/braindecode/datautil/windowers.py)"
     ]
    }
   ],
   "source": [
    "import sys\n",
    "sys.path.insert(1, '/storage/store/work/sfreybur/')\n",
    "import braindecode.datautil"
   ]
  },
  {
   "cell_type": "code",
   "execution_count": null,
   "metadata": {},
   "outputs": [],
   "source": [
    "!pip install torchaudio"
   ]
  },
  {
   "cell_type": "code",
   "execution_count": 1,
   "metadata": {},
   "outputs": [],
   "source": [
    "import braindecode"
   ]
  },
  {
   "cell_type": "code",
   "execution_count": 10,
   "metadata": {},
   "outputs": [],
   "source": [
    "import transform_side_funcs\n",
    "import mne\n",
    "from ml_vs_dl import get_epochs_data\n",
    "import torch\n",
    "from braindecode.datasets import create_from_mne_epochs\n"
   ]
  },
  {
   "cell_type": "code",
   "execution_count": 3,
   "metadata": {},
   "outputs": [],
   "source": [
    "epochs_train_list, epochs_test_list = get_epochs_data([0],[1])\n",
    "epochs_train = mne.concatenate_epochs(epochs_train_list)\n",
    "epochs_test = mne.concatenate_epochs(epochs_test_list)"
   ]
  },
  {
   "cell_type": "code",
   "execution_count": 4,
   "metadata": {},
   "outputs": [],
   "source": [
    "train_sample = create_from_mne_epochs(\n",
    "    epochs_train_list,\n",
    "    window_size_samples=3000,\n",
    "    window_stride_samples=3000,\n",
    "    drop_last_window=False)\n",
    "\n",
    "test_sample = create_from_mne_epochs(\n",
    "    epochs_test_list, window_size_samples=3000,\n",
    "    window_stride_samples=3000,\n",
    "    drop_last_window=False)"
   ]
  },
  {
   "cell_type": "code",
   "execution_count": null,
   "metadata": {},
   "outputs": [],
   "source": []
  },
  {
   "cell_type": "code",
   "execution_count": 5,
   "metadata": {},
   "outputs": [],
   "source": [
    "x = torch.tensor([5.5, 3])"
   ]
  },
  {
   "cell_type": "code",
   "execution_count": 71,
   "metadata": {},
   "outputs": [],
   "source": [
    "import torchaudio\n",
    "\n",
    "def tensor_to_img(spectrogram): # arbitrary, looks good on my screen.\n",
    "    for i in range(spectrogram.shape[0]):\n",
    "        plt.imshow(spectrogram[i], cmap = 'YlGn', interpolation = 'sinc', vmin = -100, vmax = 100)\n",
    "        plt.show();\n",
    "    display(spectrogram.shape)\n",
    "\n",
    "\n",
    "def transform(window, policy_list):\n",
    "    n_fft = 512\n",
    "    hop_length = 64\n",
    "    win_length = n_fft\n",
    "    spectrogram = torch.stft(window, n_fft=n_fft, \n",
    "                                  hop_length=hop_length,\n",
    "                                  win_length=n_fft,\n",
    "                                  window=torch.hann_window(n_fft))\n",
    "    \n",
    "    for policy in policy_list:\n",
    "        spectrogram = policy.apply(spectrogram)\n",
    "        \n",
    "    to_plot = torch.norm(spectrogram, dim=3)\n",
    "    to_plot = torchaudio.transforms.AmplitudeToDB().forward(to_plot)\n",
    "    \n",
    "    \n",
    "    tensor_to_img(to_plot)\n",
    "    augmented_window = torchaudio.functional.istft(spectrogram,    \n",
    "                                                   n_fft=n_fft,\n",
    "                                                   hop_length=hop_length,\n",
    "                                                   win_length=n_fft,\n",
    "                                                   window=torch.hann_window(n_fft))\n",
    "    \n",
    "    return(spectrogram)\n",
    "    "
   ]
  },
  {
   "cell_type": "code",
   "execution_count": 72,
   "metadata": {},
   "outputs": [],
   "source": [
    "import matplotlib.pyplot as plt"
   ]
  },
  {
   "cell_type": "code",
   "execution_count": 73,
   "metadata": {},
   "outputs": [],
   "source": [
    "import inspect\n",
    "test_sample.datasets[0].windows.load_data()\n",
    "test = torch.tensor(test_sample.datasets[0].windows._data[0])"
   ]
  },
  {
   "cell_type": "code",
   "execution_count": 74,
   "metadata": {
    "scrolled": true
   },
   "outputs": [
    {
     "name": "stdout",
     "output_type": "stream",
     "text": [
      "tensor([[[[ 5.1840e-03,  0.0000e+00],\n",
      "          [ 3.7736e-03,  0.0000e+00],\n",
      "          [ 8.6826e-04,  0.0000e+00],\n",
      "          ...,\n",
      "          [ 2.5453e-04,  0.0000e+00],\n",
      "          [ 5.2187e-04,  0.0000e+00],\n",
      "          [ 7.0710e-04,  0.0000e+00]],\n",
      "\n",
      "         [[-7.7579e-03,  2.2204e-10],\n",
      "          [-3.5664e-03, -6.1948e-03],\n",
      "          [ 2.9334e-03, -4.4207e-03],\n",
      "          ...,\n",
      "          [-2.0477e-04,  5.9373e-04],\n",
      "          [-6.0710e-04,  1.8578e-04],\n",
      "          [-3.7718e-04, -1.5391e-04]],\n",
      "\n",
      "         [[ 6.1824e-03,  3.3591e-10],\n",
      "          [ 3.0070e-03,  5.9633e-03],\n",
      "          [-5.6667e-03,  4.7297e-03],\n",
      "          ...,\n",
      "          [ 2.5851e-04, -7.2200e-04],\n",
      "          [ 5.7344e-04,  1.6395e-04],\n",
      "          [-9.6717e-05,  4.1441e-04]],\n",
      "\n",
      "         ...,\n",
      "\n",
      "         [[-4.9979e-05, -1.4909e-11],\n",
      "          [ 4.5698e-06,  3.8760e-05],\n",
      "          [ 1.0617e-05, -2.8967e-06],\n",
      "          ...,\n",
      "          [ 2.4735e-05,  4.0097e-06],\n",
      "          [ 1.3185e-05, -2.7886e-05],\n",
      "          [-1.9768e-05, -2.3689e-05]],\n",
      "\n",
      "         [[ 2.3566e-05, -1.5121e-11],\n",
      "          [ 8.4068e-06, -2.8907e-05],\n",
      "          [-2.2834e-05, -3.1198e-05],\n",
      "          ...,\n",
      "          [-6.5873e-06,  1.3647e-05],\n",
      "          [ 1.2861e-05,  3.6506e-05],\n",
      "          [ 4.8512e-05,  3.0920e-05]],\n",
      "\n",
      "         [[-2.5219e-06,  0.0000e+00],\n",
      "          [ 7.2223e-06,  0.0000e+00],\n",
      "          [ 2.7715e-05,  0.0000e+00],\n",
      "          ...,\n",
      "          [-2.0771e-05,  0.0000e+00],\n",
      "          [-4.2492e-05,  0.0000e+00],\n",
      "          [-6.4965e-05,  0.0000e+00]]],\n",
      "\n",
      "\n",
      "        [[[-1.4738e-04,  0.0000e+00],\n",
      "          [-8.8329e-05,  0.0000e+00],\n",
      "          [ 1.0460e-05,  0.0000e+00],\n",
      "          ...,\n",
      "          [ 1.2423e-04,  0.0000e+00],\n",
      "          [ 2.0887e-04,  0.0000e+00],\n",
      "          [ 3.0268e-04,  0.0000e+00]],\n",
      "\n",
      "         [[-2.1710e-05,  1.6563e-11],\n",
      "          [ 1.1566e-04, -5.3645e-05],\n",
      "          [ 1.3665e-04,  1.7396e-04],\n",
      "          ...,\n",
      "          [ 2.5760e-05,  1.1479e-05],\n",
      "          [-3.4745e-05,  1.6812e-04],\n",
      "          [-2.2992e-04,  1.6006e-04]],\n",
      "\n",
      "         [[ 2.8550e-04, -1.3405e-11],\n",
      "          [-6.6447e-05,  3.1735e-04],\n",
      "          [-3.9892e-04, -1.3435e-04],\n",
      "          ...,\n",
      "          [-2.4617e-04,  8.6350e-05],\n",
      "          [-6.3429e-05, -2.1984e-04],\n",
      "          [ 1.3297e-04, -7.3273e-05]],\n",
      "\n",
      "         ...,\n",
      "\n",
      "         [[-1.2782e-04,  1.2074e-11],\n",
      "          [-7.1270e-05,  1.2197e-04],\n",
      "          [ 1.1671e-04,  1.1681e-04],\n",
      "          ...,\n",
      "          [-4.8428e-05, -7.7238e-06],\n",
      "          [-2.0924e-05,  3.0931e-05],\n",
      "          [ 1.7944e-05,  3.4956e-05]],\n",
      "\n",
      "         [[ 9.1814e-05,  2.3106e-11],\n",
      "          [ 2.1992e-06, -1.3686e-04],\n",
      "          [-1.4532e-04, -9.9341e-05],\n",
      "          ...,\n",
      "          [ 1.9851e-05,  1.6701e-05],\n",
      "          [ 9.4720e-06, -3.1116e-05],\n",
      "          [-3.5250e-05, -3.3625e-05]],\n",
      "\n",
      "         [[ 4.0489e-05,  0.0000e+00],\n",
      "          [ 7.3668e-05,  0.0000e+00],\n",
      "          [ 1.3600e-04,  0.0000e+00],\n",
      "          ...,\n",
      "          [ 2.0282e-05,  0.0000e+00],\n",
      "          [ 2.3181e-05,  0.0000e+00],\n",
      "          [ 3.7280e-05,  0.0000e+00]]],\n",
      "\n",
      "\n",
      "        [[[ 1.3095e-02,  0.0000e+00],\n",
      "          [ 8.2315e-03,  0.0000e+00],\n",
      "          [-1.7739e-03,  0.0000e+00],\n",
      "          ...,\n",
      "          [ 1.0613e-03,  0.0000e+00],\n",
      "          [ 1.2025e-03,  0.0000e+00],\n",
      "          [ 9.4881e-04,  0.0000e+00]],\n",
      "\n",
      "         [[-2.3485e-02,  9.1218e-10],\n",
      "          [-9.9666e-03, -2.0409e-02],\n",
      "          [ 1.1640e-02, -1.5371e-02],\n",
      "          ...,\n",
      "          [-1.2831e-03,  3.3867e-04],\n",
      "          [-8.7910e-04, -5.4474e-04],\n",
      "          [-1.9650e-04, -4.9953e-04]],\n",
      "\n",
      "         [[ 2.1810e-02,  9.5954e-10],\n",
      "          [ 8.5969e-03,  2.0447e-02],\n",
      "          [-1.7346e-02,  1.3844e-02],\n",
      "          ...,\n",
      "          [ 1.2034e-03,  1.1606e-04],\n",
      "          [ 2.0989e-05,  8.6719e-04],\n",
      "          [-4.4024e-04,  7.3391e-05]],\n",
      "\n",
      "         ...,\n",
      "\n",
      "         [[ 1.2696e-04,  4.2399e-11],\n",
      "          [-5.9019e-05, -1.0827e-04],\n",
      "          [-5.8989e-05,  1.1989e-04],\n",
      "          ...,\n",
      "          [ 3.8562e-05, -1.0461e-05],\n",
      "          [-2.6916e-05, -1.6408e-05],\n",
      "          [ 1.8599e-06,  4.1293e-05]],\n",
      "\n",
      "         [[-1.7459e-04,  2.4616e-11],\n",
      "          [-1.4958e-04,  1.9363e-05],\n",
      "          [-1.5860e-04,  1.4528e-05],\n",
      "          ...,\n",
      "          [-4.9962e-05, -3.0679e-05],\n",
      "          [-5.4745e-05, -2.0211e-05],\n",
      "          [-6.8380e-05, -1.7557e-05]],\n",
      "\n",
      "         [[ 3.0344e-04,  0.0000e+00],\n",
      "          [ 3.0703e-04,  0.0000e+00],\n",
      "          [ 2.7537e-04,  0.0000e+00],\n",
      "          ...,\n",
      "          [ 7.4167e-05,  0.0000e+00],\n",
      "          [ 1.0685e-04,  0.0000e+00],\n",
      "          [ 1.2389e-04,  0.0000e+00]]],\n",
      "\n",
      "\n",
      "        ...,\n",
      "\n",
      "\n",
      "        [[[ 8.1440e-04,  0.0000e+00],\n",
      "          [ 8.1409e-04,  0.0000e+00],\n",
      "          [ 8.1258e-04,  0.0000e+00],\n",
      "          ...,\n",
      "          [ 8.1300e-04,  0.0000e+00],\n",
      "          [ 8.1058e-04,  0.0000e+00],\n",
      "          [ 8.0740e-04,  0.0000e+00]],\n",
      "\n",
      "         [[-4.0501e-04, -3.5434e-11],\n",
      "          [-4.0743e-04,  1.9927e-06],\n",
      "          [-4.0994e-04, -1.6098e-06],\n",
      "          ...,\n",
      "          [-4.0945e-04, -2.7000e-06],\n",
      "          [-4.0515e-04, -5.0228e-06],\n",
      "          [-4.0165e-04, -2.9757e-06]],\n",
      "\n",
      "         [[-3.9158e-06, -5.5764e-13],\n",
      "          [-3.7137e-07, -4.3362e-06],\n",
      "          [ 5.5048e-06, -1.2726e-06],\n",
      "          ...,\n",
      "          [ 4.2031e-06,  3.1396e-06],\n",
      "          [-1.5734e-06,  3.8773e-06],\n",
      "          [-2.3232e-06, -3.4696e-08]],\n",
      "\n",
      "         ...,\n",
      "\n",
      "         [[-1.6131e-10, -6.4592e-13],\n",
      "          [ 1.5713e-12,  1.3842e-10],\n",
      "          [ 8.2987e-11, -6.5064e-13],\n",
      "          ...,\n",
      "          [ 8.2209e-12,  2.9100e-11],\n",
      "          [ 8.9582e-11, -2.0415e-11],\n",
      "          [-3.0152e-11, -1.4187e-10]],\n",
      "\n",
      "         [[ 1.6234e-10,  1.0360e-12],\n",
      "          [ 9.7739e-11, -9.7283e-11],\n",
      "          [-5.7291e-13, -8.0440e-11],\n",
      "          ...,\n",
      "          [-1.9616e-11,  2.4811e-11],\n",
      "          [ 9.3749e-12,  9.0689e-11],\n",
      "          [ 1.1244e-10,  9.1426e-11]],\n",
      "\n",
      "         [[-1.6241e-10,  0.0000e+00],\n",
      "          [-1.3857e-10,  0.0000e+00],\n",
      "          [-8.0942e-11,  0.0000e+00],\n",
      "          ...,\n",
      "          [-2.9995e-11,  0.0000e+00],\n",
      "          [-8.9743e-11,  0.0000e+00],\n",
      "          [-1.4422e-10,  0.0000e+00]]],\n",
      "\n",
      "\n",
      "        [[[ 9.0996e+03,  0.0000e+00],\n",
      "          [ 9.0872e+03,  0.0000e+00],\n",
      "          [ 9.0537e+03,  0.0000e+00],\n",
      "          ...,\n",
      "          [ 9.5604e+03,  0.0000e+00],\n",
      "          [ 9.5770e+03,  0.0000e+00],\n",
      "          [ 9.5931e+03,  0.0000e+00]],\n",
      "\n",
      "         [[-4.6253e+03, -3.8723e-04],\n",
      "          [-4.5587e+03, -8.4121e+01],\n",
      "          [-4.4766e+03, -4.5265e+01],\n",
      "          ...,\n",
      "          [-4.7679e+03,  1.5458e+00],\n",
      "          [-4.7733e+03,  2.7357e+01],\n",
      "          [-4.8095e+03,  3.1549e+01]],\n",
      "\n",
      "         [[ 1.5514e+02, -6.1978e-06],\n",
      "          [-3.2622e+00,  1.4166e+02],\n",
      "          [-1.0739e+02, -8.1904e+00],\n",
      "          ...,\n",
      "          [-2.1153e+01,  2.6811e+01],\n",
      "          [-2.9860e+01, -2.6662e+01],\n",
      "          [ 2.0442e+01, -3.3719e+01]],\n",
      "\n",
      "         ...,\n",
      "\n",
      "         [[ 1.2296e-02, -7.2104e-06],\n",
      "          [ 1.6669e-05, -1.0488e-02],\n",
      "          [-6.1219e-03, -6.4048e-06],\n",
      "          ...,\n",
      "          [-4.7497e-04, -2.2090e-03],\n",
      "          [-6.4964e-03,  1.4545e-03],\n",
      "          [ 2.3644e-03,  1.0442e-02]],\n",
      "\n",
      "         [[-1.2284e-02,  1.1014e-05],\n",
      "          [-7.4161e-03,  7.4220e-03],\n",
      "          [-5.7192e-06,  6.1499e-03],\n",
      "          ...,\n",
      "          [ 1.4033e-03, -1.7487e-03],\n",
      "          [-7.4192e-04, -6.6235e-03],\n",
      "          [-8.3669e-03, -6.6795e-03]],\n",
      "\n",
      "         [[ 1.2283e-02,  0.0000e+00],\n",
      "          [ 1.0484e-02,  0.0000e+00],\n",
      "          [ 6.1434e-03,  0.0000e+00],\n",
      "          ...,\n",
      "          [ 2.2611e-03,  0.0000e+00],\n",
      "          [ 6.6814e-03,  0.0000e+00],\n",
      "          [ 1.0713e-02,  0.0000e+00]]],\n",
      "\n",
      "\n",
      "        [[[ 9.4137e+04,  0.0000e+00],\n",
      "          [ 8.4416e+04,  0.0000e+00],\n",
      "          [ 6.1018e+04,  0.0000e+00],\n",
      "          ...,\n",
      "          [ 2.4112e+05,  0.0000e+00],\n",
      "          [ 2.4459e+05,  0.0000e+00],\n",
      "          [ 2.4742e+05,  0.0000e+00]],\n",
      "\n",
      "         [[-7.8684e+04, -1.3126e-03],\n",
      "          [-5.3949e+04, -3.8481e+04],\n",
      "          [-1.5369e+04, -3.3202e+04],\n",
      "          ...,\n",
      "          [-1.1903e+05,  1.0429e+02],\n",
      "          [-1.1899e+05,  4.7694e+03],\n",
      "          [-1.2601e+05,  6.2384e+03]],\n",
      "\n",
      "         [[ 5.1914e+04,  9.2683e-04],\n",
      "          [ 7.9826e+03,  4.5513e+04],\n",
      "          [-2.9887e+04,  1.1327e+04],\n",
      "          ...,\n",
      "          [-3.0527e+03,  7.1572e+03],\n",
      "          [-7.2195e+03, -4.7812e+03],\n",
      "          [ 3.9530e+03, -7.5854e+03]],\n",
      "\n",
      "         ...,\n",
      "\n",
      "         [[ 3.2216e+00, -2.4508e-05],\n",
      "          [-1.3420e-04, -2.7498e+00],\n",
      "          [-1.6107e+00,  1.3990e-04],\n",
      "          ...,\n",
      "          [-1.2884e-01, -5.7705e-01],\n",
      "          [-1.7067e+00,  3.8295e-01],\n",
      "          [ 6.1524e-01,  2.7381e+00]],\n",
      "\n",
      "         [[-3.2212e+00,  2.5318e-06],\n",
      "          [-1.9442e+00,  1.9443e+00],\n",
      "          [ 8.7408e-05,  1.6106e+00],\n",
      "          ...,\n",
      "          [ 3.6928e-01, -4.6110e-01],\n",
      "          [-1.9288e-01, -1.7385e+00],\n",
      "          [-2.1910e+00, -1.7532e+00]],\n",
      "\n",
      "         [[ 3.2212e+00,  0.0000e+00],\n",
      "          [ 2.7494e+00,  0.0000e+00],\n",
      "          [ 1.6105e+00,  0.0000e+00],\n",
      "          ...,\n",
      "          [ 5.9121e-01,  0.0000e+00],\n",
      "          [ 1.7495e+00,  0.0000e+00],\n",
      "          [ 2.8062e+00,  0.0000e+00]]]], dtype=torch.float64)\n"
     ]
    },
    {
     "data": {
      "image/png": "[encoded data removed]",
      "text/plain": [
       "<Figure size 432x288 with 1 Axes>"
      ]
     },
     "metadata": {
      "needs_background": "light"
     },
     "output_type": "display_data"
    },
    {
     "data": {
      "image/png": "[encoded data removed]",
      "text/plain": [
       "<Figure size 432x288 with 1 Axes>"
      ]
     },
     "metadata": {
      "needs_background": "light"
     },
     "output_type": "display_data"
    },
    {
     "data": {
      "image/png": "[encoded data removed]",
      "text/plain": [
       "<Figure size 432x288 with 1 Axes>"
      ]
     },
     "metadata": {
      "needs_background": "light"
     },
     "output_type": "display_data"
    },
    {
     "data": {
      "image/png": "[encoded data removed]",
      "text/plain": [
       "<Figure size 432x288 with 1 Axes>"
      ]
     },
     "metadata": {
      "needs_background": "light"
     },
     "output_type": "display_data"
    },
    {
     "data": {
      "image/png": "[encoded data removed]",
      "text/plain": [
       "<Figure size 432x288 with 1 Axes>"
      ]
     },
     "metadata": {
      "needs_background": "light"
     },
     "output_type": "display_data"
    },
    {
     "data": {
      "image/png": "[encoded data removed]",
      "text/plain": [
       "<Figure size 432x288 with 1 Axes>"
      ]
     },
     "metadata": {
      "needs_background": "light"
     },
     "output_type": "display_data"
    },
    {
     "data": {
      "image/png": "[encoded data removed]",
      "text/plain": [
       "<Figure size 432x288 with 1 Axes>"
      ]
     },
     "metadata": {
      "needs_background": "light"
     },
     "output_type": "display_data"
    },
    {
     "data": {
      "text/plain": [
       "torch.Size([7, 257, 47])"
      ]
     },
     "metadata": {},
     "output_type": "display_data"
    }
   ],
   "source": [
    "def mask_along_axis(\n",
    "        specgram,\n",
    "        mask_start: int,\n",
    "        mask_end: int,\n",
    "        mask_value: float,\n",
    "        axis: int\n",
    "):\n",
    "    r\"\"\"\n",
    "    Apply a mask along ``axis``. Mask will be applied from indices ``[v_0, v_0 + v)``, where\n",
    "    ``v`` is sampled from ``uniform(0, mask_param)``, and ``v_0`` from ``uniform(0, max_v - v)``.\n",
    "    All examples will have the same mask interval.\n",
    "\n",
    "    Args:\n",
    "        specgram (Tensor): Real spectrogram (channel, freq, time)\n",
    "        mask_param (int): Number of columns to be masked will be uniformly sampled from [0, mask_param]\n",
    "        mask_value (float): Value to assign to the masked columns\n",
    "        axis (int): Axis to apply masking on (1 -> frequency, 2 -> time)\n",
    "\n",
    "    Returns:\n",
    "        Tensor: Masked spectrogram of dimensions (channel, freq, time)\n",
    "    \"\"\"\n",
    "\n",
    "    \n",
    "    mask_start = (torch.tensor(mask_start).long()).squeeze()\n",
    "    mask_end = (torch.tensor(mask_end).long()).squeeze()\n",
    "    \n",
    "    if axis == 1:\n",
    "        specgram[:, mask_start:mask_end, :, :] = mask_value\n",
    "    elif axis == 2:\n",
    "        specgram[:, :, mask_start:mask_end, :] = mask_value\n",
    "    else:\n",
    "        raise ValueError('Only Frequency and Time masking are supported')\n",
    "    print(specgram)\n",
    "    specgram = specgram.reshape(specgram.shape[:-2] + specgram.shape[-2:])\n",
    "\n",
    "    return specgram\n",
    "\n",
    "class Policy:\n",
    "\n",
    "    def __init__(self, policy_type: str, args):\n",
    "        self.policy_type = policy_type\n",
    "        self.args = args\n",
    "\n",
    "    def apply(self, spectrogram):\n",
    "        if self.policy_type == \"axis_mask\":\n",
    "            return(mask_along_axis(spectrogram, self.args[\"mask_start\"], self.args[\"mask_end\"], self.args[\"mask_value\"], self.args[\"axis\"]))\n",
    "        # if type = \"axis_warp\":\n",
    "        #    return(warp_along_axis())\n",
    "        \n",
    "args= {\"mask_start\": 10,\n",
    "       \"mask_end\": 40,\n",
    "       \"mask_value\": 1,\n",
    "       \"axis\": 2}\n",
    "policy_type = \"axis_mask\"\n",
    "policy = Policy(policy_type, args)\n",
    "spec = transform(test, [policy])\n",
    "\n"
   ]
  },
  {
   "cell_type": "code",
   "execution_count": null,
   "metadata": {},
   "outputs": [],
   "source": []
  },
  {
   "cell_type": "code",
   "execution_count": 69,
   "metadata": {},
   "outputs": [
    {
     "data": {
      "text/plain": [
       "tensor([[[ 9.4137e+04,  0.0000e+00],\n",
       "         [ 8.4416e+04,  0.0000e+00],\n",
       "         [ 6.1018e+04,  0.0000e+00],\n",
       "         ...,\n",
       "         [ 2.4112e+05,  0.0000e+00],\n",
       "         [ 2.4459e+05,  0.0000e+00],\n",
       "         [ 2.4742e+05,  0.0000e+00]],\n",
       "\n",
       "        [[-7.8684e+04, -1.3126e-03],\n",
       "         [-5.3949e+04, -3.8481e+04],\n",
       "         [-1.5369e+04, -3.3202e+04],\n",
       "         ...,\n",
       "         [-1.1903e+05,  1.0429e+02],\n",
       "         [-1.1899e+05,  4.7694e+03],\n",
       "         [-1.2601e+05,  6.2384e+03]],\n",
       "\n",
       "        [[ 5.1914e+04,  9.2683e-04],\n",
       "         [ 7.9826e+03,  4.5513e+04],\n",
       "         [-2.9887e+04,  1.1327e+04],\n",
       "         ...,\n",
       "         [-3.0527e+03,  7.1572e+03],\n",
       "         [-7.2195e+03, -4.7812e+03],\n",
       "         [ 3.9530e+03, -7.5854e+03]],\n",
       "\n",
       "        ...,\n",
       "\n",
       "        [[ 3.2216e+00, -2.4508e-05],\n",
       "         [-1.3420e-04, -2.7498e+00],\n",
       "         [-1.6107e+00,  1.3990e-04],\n",
       "         ...,\n",
       "         [-1.2884e-01, -5.7705e-01],\n",
       "         [-1.7067e+00,  3.8295e-01],\n",
       "         [ 6.1524e-01,  2.7381e+00]],\n",
       "\n",
       "        [[-3.2212e+00,  2.5318e-06],\n",
       "         [-1.9442e+00,  1.9443e+00],\n",
       "         [ 8.7408e-05,  1.6106e+00],\n",
       "         ...,\n",
       "         [ 3.6928e-01, -4.6110e-01],\n",
       "         [-1.9288e-01, -1.7385e+00],\n",
       "         [-2.1910e+00, -1.7532e+00]],\n",
       "\n",
       "        [[ 3.2212e+00,  0.0000e+00],\n",
       "         [ 2.7494e+00,  0.0000e+00],\n",
       "         [ 1.6105e+00,  0.0000e+00],\n",
       "         ...,\n",
       "         [ 5.9121e-01,  0.0000e+00],\n",
       "         [ 1.7495e+00,  0.0000e+00],\n",
       "         [ 2.8062e+00,  0.0000e+00]]], dtype=torch.float64)"
      ]
     },
     "execution_count": 69,
     "metadata": {},
     "output_type": "execute_result"
    }
   ],
   "source": [
    "spec[-1]"
   ]
  },
  {
   "cell_type": "code",
   "execution_count": 70,
   "metadata": {},
   "outputs": [
    {
     "ename": "NameError",
     "evalue": "name 'pd' is not defined",
     "output_type": "error",
     "traceback": [
      "\u001b[0;31m---------------------------------------------------------------------------\u001b[0m",
      "\u001b[0;31mNameError\u001b[0m                                 Traceback (most recent call last)",
      "\u001b[0;32m<ipython-input-70-d2dfe9b8c7b2>\u001b[0m in \u001b[0;36m<module>\u001b[0;34m\u001b[0m\n\u001b[0;32m----> 1\u001b[0;31m \u001b[0mpd\u001b[0m\u001b[0;34m.\u001b[0m\u001b[0mSeries\u001b[0m\u001b[0;34m(\u001b[0m\u001b[0mspec\u001b[0m\u001b[0;34m.\u001b[0m\u001b[0mnumpy\u001b[0m\u001b[0;34m(\u001b[0m\u001b[0;34m)\u001b[0m\u001b[0;34m.\u001b[0m\u001b[0mreshape\u001b[0m\u001b[0;34m(\u001b[0m\u001b[0;34m(\u001b[0m\u001b[0;36m1\u001b[0m\u001b[0;34m,\u001b[0m\u001b[0;34m-\u001b[0m\u001b[0;36m1\u001b[0m\u001b[0;34m)\u001b[0m\u001b[0;34m)\u001b[0m\u001b[0;34m[\u001b[0m\u001b[0;36m0\u001b[0m\u001b[0;34m]\u001b[0m\u001b[0;34m)\u001b[0m\u001b[0;34m.\u001b[0m\u001b[0msort_values\u001b[0m\u001b[0;34m(\u001b[0m\u001b[0;34m)\u001b[0m\u001b[0;34m\u001b[0m\u001b[0;34m\u001b[0m\u001b[0m\n\u001b[0m",
      "\u001b[0;31mNameError\u001b[0m: name 'pd' is not defined"
     ]
    }
   ],
   "source": [
    "pd.Series(spec.numpy().reshape((1,-1))[0]).sort_values()"
   ]
  },
  {
   "cell_type": "code",
   "execution_count": null,
   "metadata": {},
   "outputs": [],
   "source": []
  },
  {
   "cell_type": "code",
   "execution_count": 14,
   "metadata": {},
   "outputs": [
    {
     "name": "stdout",
     "output_type": "stream",
     "text": [
      "torch.Size([7, 257, 47, 2])\n"
     ]
    }
   ],
   "source": [
    "print(spec.shape)"
   ]
  },
  {
   "cell_type": "code",
   "execution_count": null,
   "metadata": {},
   "outputs": [],
   "source": []
  },
  {
   "cell_type": "code",
   "execution_count": 24,
   "metadata": {},
   "outputs": [
    {
     "name": "stdout",
     "output_type": "stream",
     "text": [
      "> \u001b[0;32m<ipython-input-21-ce8b7afc343e>\u001b[0m(1)\u001b[0;36m<module>\u001b[0;34m()\u001b[0m\n",
      "\u001b[0;32m----> 1 \u001b[0;31m\u001b[0;32mfrom\u001b[0m \u001b[0mbraindecode\u001b[0m\u001b[0;34m.\u001b[0m\u001b[0mdatautil\u001b[0m \u001b[0;32mimport\u001b[0m \u001b[0mmask_along_axis\u001b[0m\u001b[0;34m\u001b[0m\u001b[0;34m\u001b[0m\u001b[0m\n",
      "\u001b[0m\n",
      "ipdb> c\n"
     ]
    }
   ],
   "source": [
    "%debug"
   ]
  },
  {
   "cell_type": "code",
   "execution_count": 21,
   "metadata": {
    "scrolled": true
   },
   "outputs": [
    {
     "ename": "ImportError",
     "evalue": "cannot import name 'mask_along_axis' from 'braindecode.datautil' (/home/parietal/sfreybur/miniconda3/lib/python3.7/site-packages/braindecode/datautil/__init__.py)",
     "output_type": "error",
     "traceback": [
      "\u001b[0;31m---------------------------------------------------------------------------\u001b[0m",
      "\u001b[0;31mImportError\u001b[0m                               Traceback (most recent call last)",
      "\u001b[0;32m<ipython-input-21-ce8b7afc343e>\u001b[0m in \u001b[0;36m<module>\u001b[0;34m\u001b[0m\n\u001b[0;32m----> 1\u001b[0;31m \u001b[0;32mfrom\u001b[0m \u001b[0mbraindecode\u001b[0m\u001b[0;34m.\u001b[0m\u001b[0mdatautil\u001b[0m \u001b[0;32mimport\u001b[0m \u001b[0mmask_along_axis\u001b[0m\u001b[0;34m\u001b[0m\u001b[0;34m\u001b[0m\u001b[0m\n\u001b[0m",
      "\u001b[0;31mImportError\u001b[0m: cannot import name 'mask_along_axis' from 'braindecode.datautil' (/home/parietal/sfreybur/miniconda3/lib/python3.7/site-packages/braindecode/datautil/__init__.py)"
     ]
    }
   ],
   "source": [
    "from braindecode.datautil import mask_along_axis"
   ]
  },
  {
   "cell_type": "code",
   "execution_count": 2,
   "metadata": {},
   "outputs": [],
   "source": [
    "from braindecode.datautil import *"
   ]
  },
  {
   "cell_type": "code",
   "execution_count": 57,
   "metadata": {},
   "outputs": [
    {
     "data": {
      "text/plain": [
       "'/home/parietal/sfreybur/miniconda3/bin/python'"
      ]
     },
     "execution_count": 57,
     "metadata": {},
     "output_type": "execute_result"
    }
   ],
   "source": [
    "import sys\n",
    "sys.executable"
   ]
  },
  {
   "cell_type": "code",
   "execution_count": 6,
   "metadata": {},
   "outputs": [
    {
     "name": "stdout",
     "output_type": "stream",
     "text": [
      "/home/parietal/sfreybur/miniconda3/lib/python3.7/site-packages/braindecode/__init__.py\n"
     ]
    }
   ],
   "source": [
    "import braindecode\n",
    "print(braindecode.__file__)"
   ]
  },
  {
   "cell_type": "code",
   "execution_count": 62,
   "metadata": {},
   "outputs": [
    {
     "name": "stdout",
     "output_type": "stream",
     "text": [
      "running develop\n",
      "running egg_info\n",
      "writing Braindecode.egg-info/PKG-INFO\n",
      "writing dependency_links to Braindecode.egg-info/dependency_links.txt\n",
      "writing requirements to Braindecode.egg-info/requires.txt\n",
      "writing top-level names to Braindecode.egg-info/top_level.txt\n",
      "reading manifest file 'Braindecode.egg-info/SOURCES.txt'\n",
      "writing manifest file 'Braindecode.egg-info/SOURCES.txt'\n",
      "running build_ext\n",
      "Creating /home/parietal/sfreybur/miniconda3/lib/python3.7/site-packages/Braindecode.egg-link (link to .)\n",
      "Braindecode 0.5 is already the active version in easy-install.pth\n",
      "\n",
      "Installed /storage/store/work/sfreybur/FastAutoAugmentForEEG\n",
      "Processing dependencies for Braindecode==0.5\n",
      "Searching for skorch==0.8.0\n",
      "Best match: skorch 0.8.0\n",
      "Adding skorch 0.8.0 to easy-install.pth file\n",
      "\n",
      "Using /home/parietal/sfreybur/miniconda3/lib/python3.7/site-packages\n",
      "Searching for h5py==2.10.0\n",
      "Best match: h5py 2.10.0\n",
      "Adding h5py 2.10.0 to easy-install.pth file\n",
      "\n",
      "Using /home/parietal/sfreybur/miniconda3/lib/python3.7/site-packages\n",
      "Searching for matplotlib==3.1.3\n",
      "Best match: matplotlib 3.1.3\n",
      "Adding matplotlib 3.1.3 to easy-install.pth file\n",
      "\n",
      "Using /home/parietal/sfreybur/miniconda3/lib/python3.7/site-packages\n",
      "Searching for scipy==1.4.1\n",
      "Best match: scipy 1.4.1\n",
      "Adding scipy 1.4.1 to easy-install.pth file\n",
      "\n",
      "Using /home/parietal/sfreybur/miniconda3/lib/python3.7/site-packages\n",
      "Searching for pandas==1.0.3\n",
      "Best match: pandas 1.0.3\n",
      "Adding pandas 1.0.3 to easy-install.pth file\n",
      "\n",
      "Using /home/parietal/sfreybur/miniconda3/lib/python3.7/site-packages\n",
      "Searching for numpy==1.18.1\n",
      "Best match: numpy 1.18.1\n",
      "Adding numpy 1.18.1 to easy-install.pth file\n",
      "Installing f2py script to /home/parietal/sfreybur/miniconda3/bin\n",
      "Installing f2py3 script to /home/parietal/sfreybur/miniconda3/bin\n",
      "Installing f2py3.7 script to /home/parietal/sfreybur/miniconda3/bin\n",
      "\n",
      "Using /home/parietal/sfreybur/miniconda3/lib/python3.7/site-packages\n",
      "Searching for mne==0.20.5\n",
      "Best match: mne 0.20.5\n",
      "Adding mne 0.20.5 to easy-install.pth file\n",
      "Installing mne script to /home/parietal/sfreybur/miniconda3/bin\n",
      "\n",
      "Using /home/parietal/sfreybur/miniconda3/lib/python3.7/site-packages\n",
      "Searching for tqdm==4.46.0\n",
      "Best match: tqdm 4.46.0\n",
      "Adding tqdm 4.46.0 to easy-install.pth file\n",
      "Installing tqdm script to /home/parietal/sfreybur/miniconda3/bin\n",
      "\n",
      "Using /home/parietal/sfreybur/miniconda3/lib/python3.7/site-packages\n",
      "Searching for tabulate==0.8.7\n",
      "Best match: tabulate 0.8.7\n",
      "Adding tabulate 0.8.7 to easy-install.pth file\n",
      "Installing tabulate script to /home/parietal/sfreybur/miniconda3/bin\n",
      "\n",
      "Using /home/parietal/sfreybur/miniconda3/lib/python3.7/site-packages\n",
      "Searching for scikit-learn==0.22.1\n",
      "Best match: scikit-learn 0.22.1\n",
      "Adding scikit-learn 0.22.1 to easy-install.pth file\n",
      "\n",
      "Using /home/parietal/sfreybur/miniconda3/lib/python3.7/site-packages\n",
      "Searching for six==1.14.0\n",
      "Best match: six 1.14.0\n",
      "Adding six 1.14.0 to easy-install.pth file\n",
      "\n",
      "Using /home/parietal/sfreybur/miniconda3/lib/python3.7/site-packages\n",
      "Searching for kiwisolver==1.2.0\n",
      "Best match: kiwisolver 1.2.0\n",
      "Adding kiwisolver 1.2.0 to easy-install.pth file\n",
      "\n",
      "Using /home/parietal/sfreybur/miniconda3/lib/python3.7/site-packages\n",
      "Searching for pyparsing==2.4.7\n",
      "Best match: pyparsing 2.4.7\n",
      "Adding pyparsing 2.4.7 to easy-install.pth file\n",
      "\n",
      "Using /home/parietal/sfreybur/miniconda3/lib/python3.7/site-packages\n",
      "Searching for python-dateutil==2.8.1\n",
      "Best match: python-dateutil 2.8.1\n",
      "Adding python-dateutil 2.8.1 to easy-install.pth file\n",
      "\n",
      "Using /home/parietal/sfreybur/miniconda3/lib/python3.7/site-packages\n",
      "Searching for cycler==0.10.0\n",
      "Best match: cycler 0.10.0\n",
      "Adding cycler 0.10.0 to easy-install.pth file\n",
      "\n",
      "Using /home/parietal/sfreybur/miniconda3/lib/python3.7/site-packages\n",
      "Searching for pytz==2020.1\n",
      "Best match: pytz 2020.1\n",
      "Adding pytz 2020.1 to easy-install.pth file\n",
      "\n",
      "Using /home/parietal/sfreybur/miniconda3/lib/python3.7/site-packages\n",
      "Searching for joblib==0.14.1\n",
      "Best match: joblib 0.14.1\n",
      "Adding joblib 0.14.1 to easy-install.pth file\n",
      "\n",
      "Using /home/parietal/sfreybur/miniconda3/lib/python3.7/site-packages\n",
      "Finished processing dependencies for Braindecode==0.5\n"
     ]
    }
   ],
   "source": [
    "!python /storage/store/work/sfreybur/braindecode/setup.py develop"
   ]
  },
  {
   "cell_type": "code",
   "execution_count": 13,
   "metadata": {},
   "outputs": [],
   "source": []
  },
  {
   "cell_type": "code",
   "execution_count": 11,
   "metadata": {},
   "outputs": [
    {
     "data": {
      "text/plain": [
       "'/home/parietal/sfreybur/miniconda3/bin/python'"
      ]
     },
     "execution_count": 11,
     "metadata": {},
     "output_type": "execute_result"
    }
   ],
   "source": [
    "import sys\n",
    "sys.executable"
   ]
  },
  {
   "cell_type": "code",
   "execution_count": 36,
   "metadata": {},
   "outputs": [
    {
     "name": "stdout",
     "output_type": "stream",
     "text": [
      "tensor(7.7460)\n",
      "tensor(7.7460)\n"
     ]
    }
   ],
   "source": [
    "import torch\n",
    "a = torch.arange(9, dtype= torch.float) - 4\n",
    "b = a.reshape((3, 3))\n",
    "print(torch.norm(a))\n",
    "print(torch.norm(b))"
   ]
  },
  {
   "cell_type": "code",
   "execution_count": 37,
   "metadata": {},
   "outputs": [
    {
     "name": "stdout",
     "output_type": "stream",
     "text": [
      "tensor(4.)\n",
      "tensor(4.)\n"
     ]
    }
   ],
   "source": [
    "print(torch.norm(a, float('inf')))\n",
    "print(torch.norm(b, float('inf')))"
   ]
  },
  {
   "cell_type": "code",
   "execution_count": 40,
   "metadata": {},
   "outputs": [
    {
     "name": "stdout",
     "output_type": "stream",
     "text": [
      "tensor([1.4142, 2.2361, 5.0000])\n",
      "tensor([3.7417, 4.2426])\n",
      "tensor([6., 6.])\n"
     ]
    }
   ],
   "source": [
    "c = torch.tensor([[ 1, 2, 3],[-1, 1, 4]] , dtype= torch.float)\n",
    "print(torch.norm(c, dim=0))\n",
    "print(torch.norm(c, dim=1))\n",
    "print(torch.norm(c, p=1, dim=1))"
   ]
  },
  {
   "cell_type": "code",
   "execution_count": 42,
   "metadata": {},
   "outputs": [
    {
     "data": {
      "text/plain": [
       "tensor([[[ 0.,  1.,  2.,  3.],\n",
       "         [ 4.,  5.,  6.,  7.],\n",
       "         [ 8.,  9., 10., 11.]],\n",
       "\n",
       "        [[12., 13., 14., 15.],\n",
       "         [16., 17., 18., 19.],\n",
       "         [20., 21., 22., 23.]]])"
      ]
     },
     "execution_count": 42,
     "metadata": {},
     "output_type": "execute_result"
    }
   ],
   "source": [
    "d = torch.arange(24, dtype= torch.float).reshape(2,3,4)\n",
    "d"
   ]
  },
  {
   "cell_type": "code",
   "execution_count": 47,
   "metadata": {},
   "outputs": [
    {
     "data": {
      "text/plain": [
       "tensor([[ 3.7417, 11.2250, 19.1311],\n",
       "        [27.0924, 35.0714, 43.0581]])"
      ]
     },
     "execution_count": 47,
     "metadata": {},
     "output_type": "execute_result"
    }
   ],
   "source": [
    "torch.norm(d, dim=2)\n",
    "\n"
   ]
  },
  {
   "cell_type": "code",
   "execution_count": null,
   "metadata": {},
   "outputs": [],
   "source": []
  }
 ],
 "metadata": {
  "kernelspec": {
   "display_name": "Python 3",
   "language": "python",
   "name": "python3"
  },
  "language_info": {
   "codemirror_mode": {
    "name": "ipython",
    "version": 3
   },
   "file_extension": ".py",
   "mimetype": "text/x-python",
   "name": "python",
   "nbconvert_exporter": "python",
   "pygments_lexer": "ipython3",
   "version": "3.7.7"
  }
 },
 "nbformat": 4,
 "nbformat_minor": 4
}
