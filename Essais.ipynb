{
 "cells": [
  {
   "cell_type": "code",
   "execution_count": 1,
   "metadata": {},
   "outputs": [
    {
     "name": "stdout",
     "output_type": "stream",
     "text": [
      "Using default location ~/mne_data for PHYSIONET_SLEEP...\n"
     ]
    }
   ],
   "source": [
    "from mne.datasets.sleep_physionet.age import fetch_data\n",
    "ALICE, BOB = 0, 1\n",
    "[alice_files, bob_files] = fetch_data(subjects=[ALICE, BOB], recording=[1])"
   ]
  },
  {
   "cell_type": "code",
   "execution_count": 2,
   "metadata": {},
   "outputs": [],
   "source": [
    "class a:\n",
    "    def __init__(self, arg1):\n",
    "        self.arg1 = arg1"
   ]
  },
  {
   "cell_type": "code",
   "execution_count": 3,
   "metadata": {},
   "outputs": [
    {
     "ename": "NameError",
     "evalue": "name 'arg1' is not defined",
     "output_type": "error",
     "traceback": [
      "\u001b[0;31m---------------------------------------------------------------------------\u001b[0m",
      "\u001b[0;31mNameError\u001b[0m                                 Traceback (most recent call last)",
      "\u001b[0;32m<ipython-input-3-36dcd5583a3f>\u001b[0m in \u001b[0;36m<module>\u001b[0;34m\u001b[0m\n\u001b[0;32m----> 1\u001b[0;31m \u001b[0mobj1\u001b[0m \u001b[0;34m=\u001b[0m \u001b[0ma\u001b[0m\u001b[0;34m(\u001b[0m\u001b[0marg1\u001b[0m\u001b[0;34m)\u001b[0m\u001b[0;34m\u001b[0m\u001b[0;34m\u001b[0m\u001b[0m\n\u001b[0m",
      "\u001b[0;31mNameError\u001b[0m: name 'arg1' is not defined"
     ]
    }
   ],
   "source": [
    "obj1 = a(arg1)"
   ]
  },
  {
   "cell_type": "code",
   "execution_count": null,
   "metadata": {},
   "outputs": [],
   "source": [
    "class b(a):\n",
    "    def __init__(self, a, blu):\n",
    "        self = \n",
    "        self.bli = blu"
   ]
  },
  {
   "cell_type": "code",
   "execution_count": null,
   "metadata": {},
   "outputs": [],
   "source": [
    "k = b(bli, 5)"
   ]
  },
  {
   "cell_type": "code",
   "execution_count": null,
   "metadata": {},
   "outputs": [],
   "source": [
    "k.bli"
   ]
  },
  {
   "cell_type": "code",
   "execution_count": null,
   "metadata": {},
   "outputs": [],
   "source": [
    "from braindecode.datautil.transform import Policy"
   ]
  },
  {
   "cell_type": "code",
   "execution_count": 2,
   "metadata": {},
   "outputs": [
    {
     "name": "stdout",
     "output_type": "stream",
     "text": [
      "Using default location ~/mne_data for PHYSIONET_SLEEP...\n",
      "Using default location ~/mne_data for PHYSIONET_SLEEP...\n"
     ]
    },
    {
     "data": {
      "text/plain": [
       "[['/home/parietal/sfreybur/mne_data/physionet-sleep-data/SC4151E0-PSG.edf',\n",
       "  '/home/parietal/sfreybur/mne_data/physionet-sleep-data/SC4151EC-Hypnogram.edf'],\n",
       " ['/home/parietal/sfreybur/mne_data/physionet-sleep-data/SC4152E0-PSG.edf',\n",
       "  '/home/parietal/sfreybur/mne_data/physionet-sleep-data/SC4152EC-Hypnogram.edf'],\n",
       " ['/home/parietal/sfreybur/mne_data/physionet-sleep-data/SC4161E0-PSG.edf',\n",
       "  '/home/parietal/sfreybur/mne_data/physionet-sleep-data/SC4161EC-Hypnogram.edf'],\n",
       " ['/home/parietal/sfreybur/mne_data/physionet-sleep-data/SC4162E0-PSG.edf',\n",
       "  '/home/parietal/sfreybur/mne_data/physionet-sleep-data/SC4162EC-Hypnogram.edf'],\n",
       " ['/home/parietal/sfreybur/mne_data/physionet-sleep-data/SC4171E0-PSG.edf',\n",
       "  '/home/parietal/sfreybur/mne_data/physionet-sleep-data/SC4171EU-Hypnogram.edf'],\n",
       " ['/home/parietal/sfreybur/mne_data/physionet-sleep-data/SC4172E0-PSG.edf',\n",
       "  '/home/parietal/sfreybur/mne_data/physionet-sleep-data/SC4172EC-Hypnogram.edf'],\n",
       " ['/home/parietal/sfreybur/mne_data/physionet-sleep-data/SC4181E0-PSG.edf',\n",
       "  '/home/parietal/sfreybur/mne_data/physionet-sleep-data/SC4181EC-Hypnogram.edf'],\n",
       " ['/home/parietal/sfreybur/mne_data/physionet-sleep-data/SC4182E0-PSG.edf',\n",
       "  '/home/parietal/sfreybur/mne_data/physionet-sleep-data/SC4182EC-Hypnogram.edf'],\n",
       " ['/home/parietal/sfreybur/mne_data/physionet-sleep-data/SC4191E0-PSG.edf',\n",
       "  '/home/parietal/sfreybur/mne_data/physionet-sleep-data/SC4191EP-Hypnogram.edf'],\n",
       " ['/home/parietal/sfreybur/mne_data/physionet-sleep-data/SC4192E0-PSG.edf',\n",
       "  '/home/parietal/sfreybur/mne_data/physionet-sleep-data/SC4192EV-Hypnogram.edf']]"
      ]
     },
     "execution_count": 2,
     "metadata": {},
     "output_type": "execute_result"
    }
   ],
   "source": [
    "fetch_data(subjects=list(range(15)))\n",
    "fetch_data(subjects=list(range(15,20)))"
   ]
  },
  {
   "cell_type": "code",
   "execution_count": 3,
   "metadata": {},
   "outputs": [],
   "source": [
    "import mne\n",
    "%load_ext autoreload\n",
    "%autoreload 2\n",
    "from ml_vs_dl import get_epochs_data, create_from_mne_epochs\n",
    "import braindecode.datautil"
   ]
  },
  {
   "cell_type": "code",
   "execution_count": 3,
   "metadata": {},
   "outputs": [],
   "source": [
    "train, test = get_epochs_data(train_subjects=[0], test_subjects=[1])"
   ]
  },
  {
   "cell_type": "code",
   "execution_count": 1,
   "metadata": {},
   "outputs": [
    {
     "ename": "NameError",
     "evalue": "name 'create_from_mne_epochs' is not defined",
     "output_type": "error",
     "traceback": [
      "\u001b[0;31m---------------------------------------------------------------------------\u001b[0m",
      "\u001b[0;31mNameError\u001b[0m                                 Traceback (most recent call last)",
      "\u001b[0;32m<ipython-input-1-68044c0aa521>\u001b[0m in \u001b[0;36m<module>\u001b[0;34m\u001b[0m\n\u001b[0;32m----> 1\u001b[0;31m train_sample = create_from_mne_epochs(\n\u001b[0m\u001b[1;32m      2\u001b[0m     \u001b[0mtrain\u001b[0m\u001b[0;34m,\u001b[0m\u001b[0;34m\u001b[0m\u001b[0;34m\u001b[0m\u001b[0m\n\u001b[1;32m      3\u001b[0m     \u001b[0mwindow_size_samples\u001b[0m\u001b[0;34m=\u001b[0m\u001b[0;36m3000\u001b[0m\u001b[0;34m,\u001b[0m\u001b[0;34m\u001b[0m\u001b[0;34m\u001b[0m\u001b[0m\n\u001b[1;32m      4\u001b[0m     \u001b[0mwindow_stride_samples\u001b[0m\u001b[0;34m=\u001b[0m\u001b[0;36m3000\u001b[0m\u001b[0;34m,\u001b[0m\u001b[0;34m\u001b[0m\u001b[0;34m\u001b[0m\u001b[0m\n\u001b[1;32m      5\u001b[0m     drop_last_window=False)\n",
      "\u001b[0;31mNameError\u001b[0m: name 'create_from_mne_epochs' is not defined"
     ]
    }
   ],
   "source": [
    "train_sample = create_from_mne_epochs(\n",
    "    train,\n",
    "    window_size_samples=3000,\n",
    "    window_stride_samples=3000,\n",
    "    drop_last_window=False)\n",
    "\n",
    "test_sample = create_from_mne_epochs(\n",
    "    test, window_size_samples=3000,\n",
    "    window_stride_samples=3000,\n",
    "    drop_last_window=False)"
   ]
  },
  {
   "cell_type": "code",
   "execution_count": 2,
   "metadata": {},
   "outputs": [
    {
     "ename": "NameError",
     "evalue": "name 'train_sample' is not defined",
     "output_type": "error",
     "traceback": [
      "\u001b[0;31m---------------------------------------------------------------------------\u001b[0m",
      "\u001b[0;31mNameError\u001b[0m                                 Traceback (most recent call last)",
      "\u001b[0;32m<ipython-input-2-5ac7f4fbd3de>\u001b[0m in \u001b[0;36m<module>\u001b[0;34m\u001b[0m\n\u001b[0;32m----> 1\u001b[0;31m \u001b[0mtrain_sample\u001b[0m\u001b[0;34m\u001b[0m\u001b[0;34m\u001b[0m\u001b[0m\n\u001b[0m",
      "\u001b[0;31mNameError\u001b[0m: name 'train_sample' is not defined"
     ]
    }
   ],
   "source": [
    "train_sample"
   ]
  },
  {
   "cell_type": "code",
   "execution_count": 1,
   "metadata": {},
   "outputs": [
    {
     "ename": "ImportError",
     "evalue": "cannot import name '_check_windowing_arguments' from 'braindecode.datautil.windowers' (/home/parietal/sfreybur/miniconda3/lib/python3.7/site-packages/braindecode/datautil/windowers.py)",
     "output_type": "error",
     "traceback": [
      "\u001b[0;31m---------------------------------------------------------------------------\u001b[0m",
      "\u001b[0;31mImportError\u001b[0m                               Traceback (most recent call last)",
      "\u001b[0;32m<ipython-input-1-0c16bacdda2e>\u001b[0m in \u001b[0;36m<module>\u001b[0;34m\u001b[0m\n\u001b[1;32m      1\u001b[0m \u001b[0;32mimport\u001b[0m \u001b[0msys\u001b[0m\u001b[0;34m\u001b[0m\u001b[0;34m\u001b[0m\u001b[0m\n\u001b[1;32m      2\u001b[0m \u001b[0msys\u001b[0m\u001b[0;34m.\u001b[0m\u001b[0mpath\u001b[0m\u001b[0;34m.\u001b[0m\u001b[0minsert\u001b[0m\u001b[0;34m(\u001b[0m\u001b[0;36m1\u001b[0m\u001b[0;34m,\u001b[0m \u001b[0;34m'/storage/store/work/sfreybur/'\u001b[0m\u001b[0;34m)\u001b[0m\u001b[0;34m\u001b[0m\u001b[0;34m\u001b[0m\u001b[0m\n\u001b[0;32m----> 3\u001b[0;31m \u001b[0;32mimport\u001b[0m \u001b[0mbraindecode\u001b[0m\u001b[0;34m.\u001b[0m\u001b[0mdatautil\u001b[0m\u001b[0;34m\u001b[0m\u001b[0;34m\u001b[0m\u001b[0m\n\u001b[0m",
      "\u001b[0;32m~/miniconda3/lib/python3.7/site-packages/braindecode/datautil/__init__.py\u001b[0m in \u001b[0;36m<module>\u001b[0;34m\u001b[0m\n\u001b[1;32m      3\u001b[0m \"\"\"\n\u001b[1;32m      4\u001b[0m \u001b[0;34m\u001b[0m\u001b[0m\n\u001b[0;32m----> 5\u001b[0;31m \u001b[0;32mfrom\u001b[0m \u001b[0;34m.\u001b[0m\u001b[0mwindowers\u001b[0m \u001b[0;32mimport\u001b[0m \u001b[0mcreate_windows_from_events\u001b[0m\u001b[0;34m,\u001b[0m \u001b[0mcreate_fixed_length_windows\u001b[0m\u001b[0;34m\u001b[0m\u001b[0;34m\u001b[0m\u001b[0m\n\u001b[0m\u001b[1;32m      6\u001b[0m \u001b[0;32mfrom\u001b[0m \u001b[0;34m.\u001b[0m\u001b[0mpreprocess\u001b[0m \u001b[0;32mimport\u001b[0m \u001b[0mzscore\u001b[0m\u001b[0;34m,\u001b[0m \u001b[0mscale\u001b[0m\u001b[0;34m,\u001b[0m \u001b[0mexponential_moving_demean\u001b[0m\u001b[0;34m,\u001b[0m \u001b[0mexponential_moving_standardize\u001b[0m\u001b[0;34m\u001b[0m\u001b[0;34m\u001b[0m\u001b[0m\n",
      "\u001b[0;32m~/miniconda3/lib/python3.7/site-packages/braindecode/datautil/windowers.py\u001b[0m in \u001b[0;36m<module>\u001b[0;34m\u001b[0m\n\u001b[1;32m     13\u001b[0m \u001b[0;32mimport\u001b[0m \u001b[0mpandas\u001b[0m \u001b[0;32mas\u001b[0m \u001b[0mpd\u001b[0m\u001b[0;34m\u001b[0m\u001b[0;34m\u001b[0m\u001b[0m\n\u001b[1;32m     14\u001b[0m \u001b[0;34m\u001b[0m\u001b[0m\n\u001b[0;32m---> 15\u001b[0;31m \u001b[0;32mfrom\u001b[0m \u001b[0;34m.\u001b[0m\u001b[0;34m.\u001b[0m\u001b[0mdatasets\u001b[0m\u001b[0;34m.\u001b[0m\u001b[0mbase\u001b[0m \u001b[0;32mimport\u001b[0m \u001b[0mWindowsDataset\u001b[0m\u001b[0;34m,\u001b[0m \u001b[0mBaseConcatDataset\u001b[0m\u001b[0;34m\u001b[0m\u001b[0;34m\u001b[0m\u001b[0m\n\u001b[0m\u001b[1;32m     16\u001b[0m \u001b[0;34m\u001b[0m\u001b[0m\n\u001b[1;32m     17\u001b[0m \u001b[0;34m\u001b[0m\u001b[0m\n",
      "\u001b[0;32m~/miniconda3/lib/python3.7/site-packages/braindecode/datasets/__init__.py\u001b[0m in \u001b[0;36m<module>\u001b[0;34m\u001b[0m\n\u001b[1;32m      5\u001b[0m \u001b[0;32mfrom\u001b[0m \u001b[0;34m.\u001b[0m\u001b[0mmoabb\u001b[0m \u001b[0;32mimport\u001b[0m \u001b[0mMOABBDataset\u001b[0m\u001b[0;34m\u001b[0m\u001b[0;34m\u001b[0m\u001b[0m\n\u001b[1;32m      6\u001b[0m \u001b[0;32mfrom\u001b[0m \u001b[0;34m.\u001b[0m\u001b[0mtuh\u001b[0m \u001b[0;32mimport\u001b[0m \u001b[0mTUHAbnormal\u001b[0m\u001b[0;34m\u001b[0m\u001b[0;34m\u001b[0m\u001b[0m\n\u001b[0;32m----> 7\u001b[0;31m \u001b[0;32mfrom\u001b[0m \u001b[0;34m.\u001b[0m\u001b[0mmne\u001b[0m \u001b[0;32mimport\u001b[0m \u001b[0mcreate_from_mne_raw\u001b[0m\u001b[0;34m,\u001b[0m \u001b[0mcreate_from_mne_epochs\u001b[0m\u001b[0;34m\u001b[0m\u001b[0;34m\u001b[0m\u001b[0m\n\u001b[0m\u001b[1;32m      8\u001b[0m \u001b[0;32mfrom\u001b[0m \u001b[0;34m.\u001b[0m\u001b[0mxy\u001b[0m \u001b[0;32mimport\u001b[0m \u001b[0mcreate_from_X_y\u001b[0m\u001b[0;34m\u001b[0m\u001b[0;34m\u001b[0m\u001b[0m\n",
      "\u001b[0;32m~/miniconda3/lib/python3.7/site-packages/braindecode/datasets/mne.py\u001b[0m in \u001b[0;36m<module>\u001b[0;34m\u001b[0m\n\u001b[1;32m      4\u001b[0m \u001b[0;34m\u001b[0m\u001b[0m\n\u001b[1;32m      5\u001b[0m \u001b[0;32mfrom\u001b[0m \u001b[0;34m.\u001b[0m\u001b[0mbase\u001b[0m \u001b[0;32mimport\u001b[0m \u001b[0mBaseDataset\u001b[0m\u001b[0;34m,\u001b[0m \u001b[0mBaseConcatDataset\u001b[0m\u001b[0;34m,\u001b[0m \u001b[0mWindowsDataset\u001b[0m\u001b[0;34m\u001b[0m\u001b[0;34m\u001b[0m\u001b[0m\n\u001b[0;32m----> 6\u001b[0;31m from ..datautil.windowers import (\n\u001b[0m\u001b[1;32m      7\u001b[0m     _check_windowing_arguments, create_windows_from_events)\n\u001b[1;32m      8\u001b[0m \u001b[0;34m\u001b[0m\u001b[0m\n",
      "\u001b[0;31mImportError\u001b[0m: cannot import name '_check_windowing_arguments' from 'braindecode.datautil.windowers' (/home/parietal/sfreybur/miniconda3/lib/python3.7/site-packages/braindecode/datautil/windowers.py)"
     ]
    }
   ],
   "source": [
    "import sys\n",
    "sys.path.insert(1, '/storage/store/work/sfreybur/')\n",
    "import braindecode.datautil"
   ]
  },
  {
   "cell_type": "code",
   "execution_count": null,
   "metadata": {},
   "outputs": [],
   "source": [
    "!pip install torchaudio"
   ]
  },
  {
   "cell_type": "code",
   "execution_count": 4,
   "metadata": {},
   "outputs": [],
   "source": [
    "import braindecode"
   ]
  },
  {
   "cell_type": "code",
   "execution_count": 5,
   "metadata": {},
   "outputs": [],
   "source": [
    "import transform_side_funcs\n",
    "import mne\n",
    "from ml_vs_dl import get_epochs_data\n",
    "import torch\n",
    "from braindecode.datasets import create_from_mne_epochs\n"
   ]
  },
  {
   "cell_type": "code",
   "execution_count": 6,
   "metadata": {},
   "outputs": [
    {
     "ename": "KeyboardInterrupt",
     "evalue": "",
     "output_type": "error",
     "traceback": [
      "\u001b[0;31m---------------------------------------------------------------------------\u001b[0m",
      "\u001b[0;31mKeyboardInterrupt\u001b[0m                         Traceback (most recent call last)",
      "\u001b[0;32m<ipython-input-6-11347ee1a3a9>\u001b[0m in \u001b[0;36m<module>\u001b[0;34m\u001b[0m\n\u001b[1;32m      1\u001b[0m \u001b[0mepochs_train_list\u001b[0m\u001b[0;34m,\u001b[0m \u001b[0mepochs_test_list\u001b[0m \u001b[0;34m=\u001b[0m \u001b[0mget_epochs_data\u001b[0m\u001b[0;34m(\u001b[0m\u001b[0;34m[\u001b[0m\u001b[0;36m0\u001b[0m\u001b[0;34m]\u001b[0m\u001b[0;34m,\u001b[0m\u001b[0;34m[\u001b[0m\u001b[0;36m1\u001b[0m\u001b[0;34m]\u001b[0m\u001b[0;34m)\u001b[0m\u001b[0;34m\u001b[0m\u001b[0;34m\u001b[0m\u001b[0m\n\u001b[0;32m----> 2\u001b[0;31m \u001b[0mepochs_train\u001b[0m \u001b[0;34m=\u001b[0m \u001b[0mmne\u001b[0m\u001b[0;34m.\u001b[0m\u001b[0mconcatenate_epochs\u001b[0m\u001b[0;34m(\u001b[0m\u001b[0mepochs_train_list\u001b[0m\u001b[0;34m)\u001b[0m\u001b[0;34m\u001b[0m\u001b[0;34m\u001b[0m\u001b[0m\n\u001b[0m\u001b[1;32m      3\u001b[0m \u001b[0mepochs_test\u001b[0m \u001b[0;34m=\u001b[0m \u001b[0mmne\u001b[0m\u001b[0;34m.\u001b[0m\u001b[0mconcatenate_epochs\u001b[0m\u001b[0;34m(\u001b[0m\u001b[0mepochs_test_list\u001b[0m\u001b[0;34m)\u001b[0m\u001b[0;34m\u001b[0m\u001b[0;34m\u001b[0m\u001b[0m\n",
      "\u001b[0;32m~/miniconda3/lib/python3.7/site-packages/mne/epochs.py\u001b[0m in \u001b[0;36mconcatenate_epochs\u001b[0;34m(epochs_list, add_offset)\u001b[0m\n\u001b[1;32m   2998\u001b[0m     \"\"\"\n\u001b[1;32m   2999\u001b[0m     return _finish_concat(*_concatenate_epochs(epochs_list,\n\u001b[0;32m-> 3000\u001b[0;31m                                                add_offset=add_offset))\n\u001b[0m\u001b[1;32m   3001\u001b[0m \u001b[0;34m\u001b[0m\u001b[0m\n\u001b[1;32m   3002\u001b[0m \u001b[0;34m\u001b[0m\u001b[0m\n",
      "\u001b[0;32m~/miniconda3/lib/python3.7/site-packages/mne/epochs.py\u001b[0m in \u001b[0;36m_concatenate_epochs\u001b[0;34m(epochs_list, with_data, add_offset)\u001b[0m\n\u001b[1;32m   2927\u001b[0m \u001b[0;34m\u001b[0m\u001b[0m\n\u001b[1;32m   2928\u001b[0m         \u001b[0;32mif\u001b[0m \u001b[0mwith_data\u001b[0m\u001b[0;34m:\u001b[0m\u001b[0;34m\u001b[0m\u001b[0;34m\u001b[0m\u001b[0m\n\u001b[0;32m-> 2929\u001b[0;31m             \u001b[0mdata\u001b[0m\u001b[0;34m.\u001b[0m\u001b[0mappend\u001b[0m\u001b[0;34m(\u001b[0m\u001b[0mepochs\u001b[0m\u001b[0;34m.\u001b[0m\u001b[0mget_data\u001b[0m\u001b[0;34m(\u001b[0m\u001b[0;34m)\u001b[0m\u001b[0;34m)\u001b[0m\u001b[0;34m\u001b[0m\u001b[0;34m\u001b[0m\u001b[0m\n\u001b[0m\u001b[1;32m   2930\u001b[0m         \u001b[0mevs\u001b[0m \u001b[0;34m=\u001b[0m \u001b[0mepochs\u001b[0m\u001b[0;34m.\u001b[0m\u001b[0mevents\u001b[0m\u001b[0;34m.\u001b[0m\u001b[0mcopy\u001b[0m\u001b[0;34m(\u001b[0m\u001b[0;34m)\u001b[0m\u001b[0;34m\u001b[0m\u001b[0;34m\u001b[0m\u001b[0m\n\u001b[1;32m   2931\u001b[0m         \u001b[0;31m# add offset\u001b[0m\u001b[0;34m\u001b[0m\u001b[0;34m\u001b[0m\u001b[0;34m\u001b[0m\u001b[0m\n",
      "\u001b[0;32m~/miniconda3/lib/python3.7/site-packages/mne/epochs.py\u001b[0m in \u001b[0;36mget_data\u001b[0;34m(self, picks, item)\u001b[0m\n\u001b[1;32m   1412\u001b[0m             \u001b[0mA\u001b[0m \u001b[0mview\u001b[0m \u001b[0mon\u001b[0m \u001b[0mepochs\u001b[0m \u001b[0mdata\u001b[0m\u001b[0;34m.\u001b[0m\u001b[0;34m\u001b[0m\u001b[0;34m\u001b[0m\u001b[0m\n\u001b[1;32m   1413\u001b[0m         \"\"\"\n\u001b[0;32m-> 1414\u001b[0;31m         \u001b[0;32mreturn\u001b[0m \u001b[0mself\u001b[0m\u001b[0;34m.\u001b[0m\u001b[0m_get_data\u001b[0m\u001b[0;34m(\u001b[0m\u001b[0mpicks\u001b[0m\u001b[0;34m=\u001b[0m\u001b[0mpicks\u001b[0m\u001b[0;34m,\u001b[0m \u001b[0mitem\u001b[0m\u001b[0;34m=\u001b[0m\u001b[0mitem\u001b[0m\u001b[0;34m)\u001b[0m\u001b[0;34m\u001b[0m\u001b[0;34m\u001b[0m\u001b[0m\n\u001b[0m\u001b[1;32m   1415\u001b[0m \u001b[0;34m\u001b[0m\u001b[0m\n\u001b[1;32m   1416\u001b[0m     \u001b[0;34m@\u001b[0m\u001b[0mproperty\u001b[0m\u001b[0;34m\u001b[0m\u001b[0;34m\u001b[0m\u001b[0m\n",
      "\u001b[0;32m<decorator-gen-182>\u001b[0m in \u001b[0;36m_get_data\u001b[0;34m(self, out, picks, item, verbose)\u001b[0m\n",
      "\u001b[0;32m~/miniconda3/lib/python3.7/site-packages/mne/epochs.py\u001b[0m in \u001b[0;36m_get_data\u001b[0;34m(self, out, picks, item, verbose)\u001b[0m\n\u001b[1;32m   1320\u001b[0m             \u001b[0;32mfor\u001b[0m \u001b[0mii\u001b[0m\u001b[0;34m,\u001b[0m \u001b[0midx\u001b[0m \u001b[0;32min\u001b[0m \u001b[0menumerate\u001b[0m\u001b[0;34m(\u001b[0m\u001b[0muse_idx\u001b[0m\u001b[0;34m)\u001b[0m\u001b[0;34m:\u001b[0m\u001b[0;34m\u001b[0m\u001b[0;34m\u001b[0m\u001b[0m\n\u001b[1;32m   1321\u001b[0m                 \u001b[0;31m# faster to pre-allocate memory here\u001b[0m\u001b[0;34m\u001b[0m\u001b[0;34m\u001b[0m\u001b[0;34m\u001b[0m\u001b[0m\n\u001b[0;32m-> 1322\u001b[0;31m                 \u001b[0mepoch_noproj\u001b[0m \u001b[0;34m=\u001b[0m \u001b[0mself\u001b[0m\u001b[0;34m.\u001b[0m\u001b[0m_get_epoch_from_raw\u001b[0m\u001b[0;34m(\u001b[0m\u001b[0midx\u001b[0m\u001b[0;34m)\u001b[0m\u001b[0;34m\u001b[0m\u001b[0;34m\u001b[0m\u001b[0m\n\u001b[0m\u001b[1;32m   1323\u001b[0m                 \u001b[0mepoch_noproj\u001b[0m \u001b[0;34m=\u001b[0m \u001b[0mself\u001b[0m\u001b[0;34m.\u001b[0m\u001b[0m_detrend_offset_decim\u001b[0m\u001b[0;34m(\u001b[0m\u001b[0mepoch_noproj\u001b[0m\u001b[0;34m)\u001b[0m\u001b[0;34m\u001b[0m\u001b[0;34m\u001b[0m\u001b[0m\n\u001b[1;32m   1324\u001b[0m                 \u001b[0;32mif\u001b[0m \u001b[0mself\u001b[0m\u001b[0;34m.\u001b[0m\u001b[0m_do_delayed_proj\u001b[0m\u001b[0;34m:\u001b[0m\u001b[0;34m\u001b[0m\u001b[0;34m\u001b[0m\u001b[0m\n",
      "\u001b[0;32m<decorator-gen-185>\u001b[0m in \u001b[0;36m_get_epoch_from_raw\u001b[0;34m(self, idx, verbose)\u001b[0m\n",
      "\u001b[0;32m~/miniconda3/lib/python3.7/site-packages/mne/epochs.py\u001b[0m in \u001b[0;36m_get_epoch_from_raw\u001b[0;34m(self, idx, verbose)\u001b[0m\n\u001b[1;32m   2083\u001b[0m         \u001b[0mfirst_samp\u001b[0m \u001b[0;34m=\u001b[0m \u001b[0mself\u001b[0m\u001b[0;34m.\u001b[0m\u001b[0m_raw\u001b[0m\u001b[0;34m.\u001b[0m\u001b[0mfirst_samp\u001b[0m\u001b[0;34m\u001b[0m\u001b[0;34m\u001b[0m\u001b[0m\n\u001b[1;32m   2084\u001b[0m         \u001b[0mstart\u001b[0m \u001b[0;34m=\u001b[0m \u001b[0mint\u001b[0m\u001b[0;34m(\u001b[0m\u001b[0mround\u001b[0m\u001b[0;34m(\u001b[0m\u001b[0mevent_samp\u001b[0m \u001b[0;34m+\u001b[0m \u001b[0mself\u001b[0m\u001b[0;34m.\u001b[0m\u001b[0m_raw_times\u001b[0m\u001b[0;34m[\u001b[0m\u001b[0;36m0\u001b[0m\u001b[0;34m]\u001b[0m \u001b[0;34m*\u001b[0m \u001b[0msfreq\u001b[0m\u001b[0;34m)\u001b[0m\u001b[0;34m)\u001b[0m\u001b[0;34m\u001b[0m\u001b[0;34m\u001b[0m\u001b[0m\n\u001b[0;32m-> 2085\u001b[0;31m         \u001b[0mstart\u001b[0m \u001b[0;34m-=\u001b[0m \u001b[0mfirst_samp\u001b[0m\u001b[0;34m\u001b[0m\u001b[0;34m\u001b[0m\u001b[0m\n\u001b[0m\u001b[1;32m   2086\u001b[0m         \u001b[0mstop\u001b[0m \u001b[0;34m=\u001b[0m \u001b[0mstart\u001b[0m \u001b[0;34m+\u001b[0m \u001b[0mlen\u001b[0m\u001b[0;34m(\u001b[0m\u001b[0mself\u001b[0m\u001b[0;34m.\u001b[0m\u001b[0m_raw_times\u001b[0m\u001b[0;34m)\u001b[0m\u001b[0;34m\u001b[0m\u001b[0;34m\u001b[0m\u001b[0m\n\u001b[1;32m   2087\u001b[0m         \u001b[0mlogger\u001b[0m\u001b[0;34m.\u001b[0m\u001b[0mdebug\u001b[0m\u001b[0;34m(\u001b[0m\u001b[0;34m'    Getting epoch for %d-%d'\u001b[0m \u001b[0;34m%\u001b[0m \u001b[0;34m(\u001b[0m\u001b[0mstart\u001b[0m\u001b[0;34m,\u001b[0m \u001b[0mstop\u001b[0m\u001b[0;34m)\u001b[0m\u001b[0;34m)\u001b[0m\u001b[0;34m\u001b[0m\u001b[0;34m\u001b[0m\u001b[0m\n",
      "\u001b[0;31mKeyboardInterrupt\u001b[0m: "
     ]
    }
   ],
   "source": [
    "epochs_train_list, epochs_test_list = get_epochs_data([0],[1])\n",
    "epochs_train = mne.concatenate_epochs(epochs_train_list)\n",
    "epochs_test = mne.concatenate_epochs(epochs_test_list)"
   ]
  },
  {
   "cell_type": "code",
   "execution_count": null,
   "metadata": {},
   "outputs": [],
   "source": [
    "train_sample = create_from_mne_epochs(\n",
    "    epochs_train_list,\n",
    "    window_size_samples=3000,\n",
    "    window_stride_samples=3000,\n",
    "    drop_last_window=False)\n",
    "\n",
    "test_sample = create_from_mne_epochs(\n",
    "    epochs_test_list, window_size_samples=3000,\n",
    "    window_stride_samples=3000,\n",
    "    drop_last_window=False)"
   ]
  },
  {
   "cell_type": "code",
   "execution_count": null,
   "metadata": {},
   "outputs": [],
   "source": []
  },
  {
   "cell_type": "code",
   "execution_count": 8,
   "metadata": {},
   "outputs": [],
   "source": [
    "x = torch.tensor([5.5, 3])"
   ]
  },
  {
   "cell_type": "code",
   "execution_count": 10,
   "metadata": {},
   "outputs": [
    {
     "data": {
      "text/plain": [
       "1"
      ]
     },
     "execution_count": 10,
     "metadata": {},
     "output_type": "execute_result"
    }
   ],
   "source": [
    "len(x.shape)"
   ]
  },
  {
   "cell_type": "code",
   "execution_count": null,
   "metadata": {},
   "outputs": [],
   "source": [
    "import torchaudio\n",
    "\n",
    "def tensor_to_img(spectrogram): # arbitrary, looks good on my screen.\n",
    "    for i in range(spectrogram.shape[0]):\n",
    "        plt.imshow(spectrogram[i], cmap = 'YlGn', interpolation = 'sinc', vmin = -100, vmax = 100)\n",
    "        plt.show();\n",
    "    display(spectrogram.shape)\n",
    "\n",
    "\n",
    "def transform(window, policy_list):\n",
    "    n_fft = 512\n",
    "    hop_length = 64\n",
    "    win_length = n_fft\n",
    "    spectrogram = torch.stft(window, n_fft=n_fft, \n",
    "                                  hop_length=hop_length,\n",
    "                                  win_length=n_fft,\n",
    "                                  window=torch.hann_window(n_fft))\n",
    "    \n",
    "    for policy in policy_list:\n",
    "        spectrogram = policy.apply(spectrogram)\n",
    "        \n",
    "    to_plot = torch.norm(spectrogram, dim=3)\n",
    "    to_plot = torchaudio.transforms.AmplitudeToDB().forward(to_plot)\n",
    "    \n",
    "    \n",
    "    tensor_to_img(to_plot)\n",
    "    augmented_window = torchaudio.functional.istft(spectrogram,    \n",
    "                                                   n_fft=n_fft,\n",
    "                                                   hop_length=hop_length,\n",
    "                                                   win_length=n_fft,\n",
    "                                                   window=torch.hann_window(n_fft))\n",
    "    \n",
    "    return(spectrogram)\n",
    "    "
   ]
  },
  {
   "cell_type": "code",
   "execution_count": null,
   "metadata": {},
   "outputs": [],
   "source": [
    "import matplotlib.pyplot as plt"
   ]
  },
  {
   "cell_type": "code",
   "execution_count": null,
   "metadata": {},
   "outputs": [],
   "source": [
    "import inspect\n",
    "test_sample.datasets[0].windows.load_data()\n",
    "test = torch.tensor(test_sample.datasets[0].windows._data[0])"
   ]
  },
  {
   "cell_type": "code",
   "execution_count": null,
   "metadata": {
    "scrolled": true
   },
   "outputs": [],
   "source": [
    "def mask_along_axis(\n",
    "        specgram,\n",
    "        mask_start: int,\n",
    "        mask_end: int,\n",
    "        mask_value: float,\n",
    "        axis: int\n",
    "):\n",
    "    r\"\"\"\n",
    "    Apply a mask along ``axis``. Mask will be applied from indices ``[v_0, v_0 + v)``, where\n",
    "    ``v`` is sampled from ``uniform(0, mask_param)``, and ``v_0`` from ``uniform(0, max_v - v)``.\n",
    "    All examples will have the same mask interval.\n",
    "\n",
    "    Args:\n",
    "        specgram (Tensor): Real spectrogram (channel, freq, time)\n",
    "        mask_param (int): Number of columns to be masked will be uniformly sampled from [0, mask_param]\n",
    "        mask_value (float): Value to assign to the masked columns\n",
    "        axis (int): Axis to apply masking on (1 -> frequency, 2 -> time)\n",
    "\n",
    "    Returns:\n",
    "        Tensor: Masked spectrogram of dimensions (channel, freq, time)\n",
    "    \"\"\"\n",
    "\n",
    "    \n",
    "    mask_start = (torch.tensor(mask_start).long()).squeeze()\n",
    "    mask_end = (torch.tensor(mask_end).long()).squeeze()\n",
    "    \n",
    "    if axis == 1:\n",
    "        specgram[:, mask_start:mask_end, :, :] = mask_value\n",
    "    elif axis == 2:\n",
    "        specgram[:, :, mask_start:mask_end, :] = mask_value\n",
    "    else:\n",
    "        raise ValueError('Only Frequency and Time masking are supported')\n",
    "    print(specgram)\n",
    "    specgram = specgram.reshape(specgram.shape[:-2] + specgram.shape[-2:])\n",
    "\n",
    "    return specgram\n",
    "\n",
    "class Policy:\n",
    "\n",
    "    def __init__(self, policy_type: str, args):\n",
    "        self.policy_type = policy_type\n",
    "        self.args = args\n",
    "\n",
    "    def apply(self, spectrogram):\n",
    "        if self.policy_type == \"axis_mask\":\n",
    "            return(mask_along_axis(spectrogram, self.args[\"mask_start\"], self.args[\"mask_end\"], self.args[\"mask_value\"], self.args[\"axis\"]))\n",
    "        # if type = \"axis_warp\":\n",
    "        #    return(warp_along_axis())\n",
    "        \n",
    "args= {\"mask_start\": 10,\n",
    "       \"mask_end\": 40,\n",
    "       \"mask_value\": 1,\n",
    "       \"axis\": 2}\n",
    "policy_type = \"axis_mask\"\n",
    "policy = Policy(policy_type, args)\n",
    "spec = transform(test, [policy])\n",
    "\n"
   ]
  },
  {
   "cell_type": "code",
   "execution_count": null,
   "metadata": {},
   "outputs": [],
   "source": []
  },
  {
   "cell_type": "code",
   "execution_count": 69,
   "metadata": {},
   "outputs": [
    {
     "data": {
      "text/plain": [
       "tensor([[[ 9.4137e+04,  0.0000e+00],\n",
       "         [ 8.4416e+04,  0.0000e+00],\n",
       "         [ 6.1018e+04,  0.0000e+00],\n",
       "         ...,\n",
       "         [ 2.4112e+05,  0.0000e+00],\n",
       "         [ 2.4459e+05,  0.0000e+00],\n",
       "         [ 2.4742e+05,  0.0000e+00]],\n",
       "\n",
       "        [[-7.8684e+04, -1.3126e-03],\n",
       "         [-5.3949e+04, -3.8481e+04],\n",
       "         [-1.5369e+04, -3.3202e+04],\n",
       "         ...,\n",
       "         [-1.1903e+05,  1.0429e+02],\n",
       "         [-1.1899e+05,  4.7694e+03],\n",
       "         [-1.2601e+05,  6.2384e+03]],\n",
       "\n",
       "        [[ 5.1914e+04,  9.2683e-04],\n",
       "         [ 7.9826e+03,  4.5513e+04],\n",
       "         [-2.9887e+04,  1.1327e+04],\n",
       "         ...,\n",
       "         [-3.0527e+03,  7.1572e+03],\n",
       "         [-7.2195e+03, -4.7812e+03],\n",
       "         [ 3.9530e+03, -7.5854e+03]],\n",
       "\n",
       "        ...,\n",
       "\n",
       "        [[ 3.2216e+00, -2.4508e-05],\n",
       "         [-1.3420e-04, -2.7498e+00],\n",
       "         [-1.6107e+00,  1.3990e-04],\n",
       "         ...,\n",
       "         [-1.2884e-01, -5.7705e-01],\n",
       "         [-1.7067e+00,  3.8295e-01],\n",
       "         [ 6.1524e-01,  2.7381e+00]],\n",
       "\n",
       "        [[-3.2212e+00,  2.5318e-06],\n",
       "         [-1.9442e+00,  1.9443e+00],\n",
       "         [ 8.7408e-05,  1.6106e+00],\n",
       "         ...,\n",
       "         [ 3.6928e-01, -4.6110e-01],\n",
       "         [-1.9288e-01, -1.7385e+00],\n",
       "         [-2.1910e+00, -1.7532e+00]],\n",
       "\n",
       "        [[ 3.2212e+00,  0.0000e+00],\n",
       "         [ 2.7494e+00,  0.0000e+00],\n",
       "         [ 1.6105e+00,  0.0000e+00],\n",
       "         ...,\n",
       "         [ 5.9121e-01,  0.0000e+00],\n",
       "         [ 1.7495e+00,  0.0000e+00],\n",
       "         [ 2.8062e+00,  0.0000e+00]]], dtype=torch.float64)"
      ]
     },
     "execution_count": 69,
     "metadata": {},
     "output_type": "execute_result"
    }
   ],
   "source": [
    "spec[-1]"
   ]
  },
  {
   "cell_type": "code",
   "execution_count": 70,
   "metadata": {},
   "outputs": [
    {
     "ename": "NameError",
     "evalue": "name 'pd' is not defined",
     "output_type": "error",
     "traceback": [
      "\u001b[0;31m---------------------------------------------------------------------------\u001b[0m",
      "\u001b[0;31mNameError\u001b[0m                                 Traceback (most recent call last)",
      "\u001b[0;32m<ipython-input-70-d2dfe9b8c7b2>\u001b[0m in \u001b[0;36m<module>\u001b[0;34m\u001b[0m\n\u001b[0;32m----> 1\u001b[0;31m \u001b[0mpd\u001b[0m\u001b[0;34m.\u001b[0m\u001b[0mSeries\u001b[0m\u001b[0;34m(\u001b[0m\u001b[0mspec\u001b[0m\u001b[0;34m.\u001b[0m\u001b[0mnumpy\u001b[0m\u001b[0;34m(\u001b[0m\u001b[0;34m)\u001b[0m\u001b[0;34m.\u001b[0m\u001b[0mreshape\u001b[0m\u001b[0;34m(\u001b[0m\u001b[0;34m(\u001b[0m\u001b[0;36m1\u001b[0m\u001b[0;34m,\u001b[0m\u001b[0;34m-\u001b[0m\u001b[0;36m1\u001b[0m\u001b[0;34m)\u001b[0m\u001b[0;34m)\u001b[0m\u001b[0;34m[\u001b[0m\u001b[0;36m0\u001b[0m\u001b[0;34m]\u001b[0m\u001b[0;34m)\u001b[0m\u001b[0;34m.\u001b[0m\u001b[0msort_values\u001b[0m\u001b[0;34m(\u001b[0m\u001b[0;34m)\u001b[0m\u001b[0;34m\u001b[0m\u001b[0;34m\u001b[0m\u001b[0m\n\u001b[0m",
      "\u001b[0;31mNameError\u001b[0m: name 'pd' is not defined"
     ]
    }
   ],
   "source": [
    "pd.Series(spec.numpy().reshape((1,-1))[0]).sort_values()"
   ]
  },
  {
   "cell_type": "code",
   "execution_count": null,
   "metadata": {},
   "outputs": [],
   "source": []
  },
  {
   "cell_type": "code",
   "execution_count": 14,
   "metadata": {},
   "outputs": [
    {
     "name": "stdout",
     "output_type": "stream",
     "text": [
      "torch.Size([7, 257, 47, 2])\n"
     ]
    }
   ],
   "source": [
    "print(spec.shape)"
   ]
  },
  {
   "cell_type": "code",
   "execution_count": null,
   "metadata": {},
   "outputs": [],
   "source": []
  },
  {
   "cell_type": "code",
   "execution_count": 24,
   "metadata": {},
   "outputs": [
    {
     "name": "stdout",
     "output_type": "stream",
     "text": [
      "> \u001b[0;32m<ipython-input-21-ce8b7afc343e>\u001b[0m(1)\u001b[0;36m<module>\u001b[0;34m()\u001b[0m\n",
      "\u001b[0;32m----> 1 \u001b[0;31m\u001b[0;32mfrom\u001b[0m \u001b[0mbraindecode\u001b[0m\u001b[0;34m.\u001b[0m\u001b[0mdatautil\u001b[0m \u001b[0;32mimport\u001b[0m \u001b[0mmask_along_axis\u001b[0m\u001b[0;34m\u001b[0m\u001b[0;34m\u001b[0m\u001b[0m\n",
      "\u001b[0m\n",
      "ipdb> c\n"
     ]
    }
   ],
   "source": [
    "%debug"
   ]
  },
  {
   "cell_type": "code",
   "execution_count": 21,
   "metadata": {
    "scrolled": true
   },
   "outputs": [
    {
     "ename": "ImportError",
     "evalue": "cannot import name 'mask_along_axis' from 'braindecode.datautil' (/home/parietal/sfreybur/miniconda3/lib/python3.7/site-packages/braindecode/datautil/__init__.py)",
     "output_type": "error",
     "traceback": [
      "\u001b[0;31m---------------------------------------------------------------------------\u001b[0m",
      "\u001b[0;31mImportError\u001b[0m                               Traceback (most recent call last)",
      "\u001b[0;32m<ipython-input-21-ce8b7afc343e>\u001b[0m in \u001b[0;36m<module>\u001b[0;34m\u001b[0m\n\u001b[0;32m----> 1\u001b[0;31m \u001b[0;32mfrom\u001b[0m \u001b[0mbraindecode\u001b[0m\u001b[0;34m.\u001b[0m\u001b[0mdatautil\u001b[0m \u001b[0;32mimport\u001b[0m \u001b[0mmask_along_axis\u001b[0m\u001b[0;34m\u001b[0m\u001b[0;34m\u001b[0m\u001b[0m\n\u001b[0m",
      "\u001b[0;31mImportError\u001b[0m: cannot import name 'mask_along_axis' from 'braindecode.datautil' (/home/parietal/sfreybur/miniconda3/lib/python3.7/site-packages/braindecode/datautil/__init__.py)"
     ]
    }
   ],
   "source": [
    "from braindecode.datautil import mask_along_axis"
   ]
  },
  {
   "cell_type": "code",
   "execution_count": 2,
   "metadata": {},
   "outputs": [],
   "source": [
    "from braindecode.datautil import *"
   ]
  },
  {
   "cell_type": "code",
   "execution_count": 57,
   "metadata": {},
   "outputs": [
    {
     "data": {
      "text/plain": [
       "'/home/parietal/sfreybur/miniconda3/bin/python'"
      ]
     },
     "execution_count": 57,
     "metadata": {},
     "output_type": "execute_result"
    }
   ],
   "source": [
    "import sys\n",
    "sys.executable"
   ]
  },
  {
   "cell_type": "code",
   "execution_count": 6,
   "metadata": {},
   "outputs": [
    {
     "name": "stdout",
     "output_type": "stream",
     "text": [
      "/home/parietal/sfreybur/miniconda3/lib/python3.7/site-packages/braindecode/__init__.py\n"
     ]
    }
   ],
   "source": [
    "import braindecode\n",
    "print(braindecode.__file__)"
   ]
  },
  {
   "cell_type": "code",
   "execution_count": 62,
   "metadata": {},
   "outputs": [
    {
     "name": "stdout",
     "output_type": "stream",
     "text": [
      "running develop\n",
      "running egg_info\n",
      "writing Braindecode.egg-info/PKG-INFO\n",
      "writing dependency_links to Braindecode.egg-info/dependency_links.txt\n",
      "writing requirements to Braindecode.egg-info/requires.txt\n",
      "writing top-level names to Braindecode.egg-info/top_level.txt\n",
      "reading manifest file 'Braindecode.egg-info/SOURCES.txt'\n",
      "writing manifest file 'Braindecode.egg-info/SOURCES.txt'\n",
      "running build_ext\n",
      "Creating /home/parietal/sfreybur/miniconda3/lib/python3.7/site-packages/Braindecode.egg-link (link to .)\n",
      "Braindecode 0.5 is already the active version in easy-install.pth\n",
      "\n",
      "Installed /storage/store/work/sfreybur/FastAutoAugmentForEEG\n",
      "Processing dependencies for Braindecode==0.5\n",
      "Searching for skorch==0.8.0\n",
      "Best match: skorch 0.8.0\n",
      "Adding skorch 0.8.0 to easy-install.pth file\n",
      "\n",
      "Using /home/parietal/sfreybur/miniconda3/lib/python3.7/site-packages\n",
      "Searching for h5py==2.10.0\n",
      "Best match: h5py 2.10.0\n",
      "Adding h5py 2.10.0 to easy-install.pth file\n",
      "\n",
      "Using /home/parietal/sfreybur/miniconda3/lib/python3.7/site-packages\n",
      "Searching for matplotlib==3.1.3\n",
      "Best match: matplotlib 3.1.3\n",
      "Adding matplotlib 3.1.3 to easy-install.pth file\n",
      "\n",
      "Using /home/parietal/sfreybur/miniconda3/lib/python3.7/site-packages\n",
      "Searching for scipy==1.4.1\n",
      "Best match: scipy 1.4.1\n",
      "Adding scipy 1.4.1 to easy-install.pth file\n",
      "\n",
      "Using /home/parietal/sfreybur/miniconda3/lib/python3.7/site-packages\n",
      "Searching for pandas==1.0.3\n",
      "Best match: pandas 1.0.3\n",
      "Adding pandas 1.0.3 to easy-install.pth file\n",
      "\n",
      "Using /home/parietal/sfreybur/miniconda3/lib/python3.7/site-packages\n",
      "Searching for numpy==1.18.1\n",
      "Best match: numpy 1.18.1\n",
      "Adding numpy 1.18.1 to easy-install.pth file\n",
      "Installing f2py script to /home/parietal/sfreybur/miniconda3/bin\n",
      "Installing f2py3 script to /home/parietal/sfreybur/miniconda3/bin\n",
      "Installing f2py3.7 script to /home/parietal/sfreybur/miniconda3/bin\n",
      "\n",
      "Using /home/parietal/sfreybur/miniconda3/lib/python3.7/site-packages\n",
      "Searching for mne==0.20.5\n",
      "Best match: mne 0.20.5\n",
      "Adding mne 0.20.5 to easy-install.pth file\n",
      "Installing mne script to /home/parietal/sfreybur/miniconda3/bin\n",
      "\n",
      "Using /home/parietal/sfreybur/miniconda3/lib/python3.7/site-packages\n",
      "Searching for tqdm==4.46.0\n",
      "Best match: tqdm 4.46.0\n",
      "Adding tqdm 4.46.0 to easy-install.pth file\n",
      "Installing tqdm script to /home/parietal/sfreybur/miniconda3/bin\n",
      "\n",
      "Using /home/parietal/sfreybur/miniconda3/lib/python3.7/site-packages\n",
      "Searching for tabulate==0.8.7\n",
      "Best match: tabulate 0.8.7\n",
      "Adding tabulate 0.8.7 to easy-install.pth file\n",
      "Installing tabulate script to /home/parietal/sfreybur/miniconda3/bin\n",
      "\n",
      "Using /home/parietal/sfreybur/miniconda3/lib/python3.7/site-packages\n",
      "Searching for scikit-learn==0.22.1\n",
      "Best match: scikit-learn 0.22.1\n",
      "Adding scikit-learn 0.22.1 to easy-install.pth file\n",
      "\n",
      "Using /home/parietal/sfreybur/miniconda3/lib/python3.7/site-packages\n",
      "Searching for six==1.14.0\n",
      "Best match: six 1.14.0\n",
      "Adding six 1.14.0 to easy-install.pth file\n",
      "\n",
      "Using /home/parietal/sfreybur/miniconda3/lib/python3.7/site-packages\n",
      "Searching for kiwisolver==1.2.0\n",
      "Best match: kiwisolver 1.2.0\n",
      "Adding kiwisolver 1.2.0 to easy-install.pth file\n",
      "\n",
      "Using /home/parietal/sfreybur/miniconda3/lib/python3.7/site-packages\n",
      "Searching for pyparsing==2.4.7\n",
      "Best match: pyparsing 2.4.7\n",
      "Adding pyparsing 2.4.7 to easy-install.pth file\n",
      "\n",
      "Using /home/parietal/sfreybur/miniconda3/lib/python3.7/site-packages\n",
      "Searching for python-dateutil==2.8.1\n",
      "Best match: python-dateutil 2.8.1\n",
      "Adding python-dateutil 2.8.1 to easy-install.pth file\n",
      "\n",
      "Using /home/parietal/sfreybur/miniconda3/lib/python3.7/site-packages\n",
      "Searching for cycler==0.10.0\n",
      "Best match: cycler 0.10.0\n",
      "Adding cycler 0.10.0 to easy-install.pth file\n",
      "\n",
      "Using /home/parietal/sfreybur/miniconda3/lib/python3.7/site-packages\n",
      "Searching for pytz==2020.1\n",
      "Best match: pytz 2020.1\n",
      "Adding pytz 2020.1 to easy-install.pth file\n",
      "\n",
      "Using /home/parietal/sfreybur/miniconda3/lib/python3.7/site-packages\n",
      "Searching for joblib==0.14.1\n",
      "Best match: joblib 0.14.1\n",
      "Adding joblib 0.14.1 to easy-install.pth file\n",
      "\n",
      "Using /home/parietal/sfreybur/miniconda3/lib/python3.7/site-packages\n",
      "Finished processing dependencies for Braindecode==0.5\n"
     ]
    }
   ],
   "source": [
    "!python /storage/store/work/sfreybur/braindecode/setup.py develop"
   ]
  },
  {
   "cell_type": "code",
   "execution_count": 13,
   "metadata": {},
   "outputs": [],
   "source": []
  },
  {
   "cell_type": "code",
   "execution_count": 11,
   "metadata": {},
   "outputs": [
    {
     "data": {
      "text/plain": [
       "'/home/parietal/sfreybur/miniconda3/bin/python'"
      ]
     },
     "execution_count": 11,
     "metadata": {},
     "output_type": "execute_result"
    }
   ],
   "source": [
    "import sys\n",
    "sys.executable"
   ]
  },
  {
   "cell_type": "code",
   "execution_count": 36,
   "metadata": {},
   "outputs": [
    {
     "name": "stdout",
     "output_type": "stream",
     "text": [
      "tensor(7.7460)\n",
      "tensor(7.7460)\n"
     ]
    }
   ],
   "source": [
    "import torch\n",
    "a = torch.arange(9, dtype= torch.float) - 4\n",
    "b = a.reshape((3, 3))\n",
    "print(torch.norm(a))\n",
    "print(torch.norm(b))"
   ]
  },
  {
   "cell_type": "code",
   "execution_count": 37,
   "metadata": {},
   "outputs": [
    {
     "name": "stdout",
     "output_type": "stream",
     "text": [
      "tensor(4.)\n",
      "tensor(4.)\n"
     ]
    }
   ],
   "source": [
    "print(torch.norm(a, float('inf')))\n",
    "print(torch.norm(b, float('inf')))"
   ]
  },
  {
   "cell_type": "code",
   "execution_count": 40,
   "metadata": {},
   "outputs": [
    {
     "name": "stdout",
     "output_type": "stream",
     "text": [
      "tensor([1.4142, 2.2361, 5.0000])\n",
      "tensor([3.7417, 4.2426])\n",
      "tensor([6., 6.])\n"
     ]
    }
   ],
   "source": [
    "c = torch.tensor([[ 1, 2, 3],[-1, 1, 4]] , dtype= torch.float)\n",
    "print(torch.norm(c, dim=0))\n",
    "print(torch.norm(c, dim=1))\n",
    "print(torch.norm(c, p=1, dim=1))"
   ]
  },
  {
   "cell_type": "code",
   "execution_count": 42,
   "metadata": {},
   "outputs": [
    {
     "data": {
      "text/plain": [
       "tensor([[[ 0.,  1.,  2.,  3.],\n",
       "         [ 4.,  5.,  6.,  7.],\n",
       "         [ 8.,  9., 10., 11.]],\n",
       "\n",
       "        [[12., 13., 14., 15.],\n",
       "         [16., 17., 18., 19.],\n",
       "         [20., 21., 22., 23.]]])"
      ]
     },
     "execution_count": 42,
     "metadata": {},
     "output_type": "execute_result"
    }
   ],
   "source": [
    "d = torch.arange(24, dtype= torch.float).reshape(2,3,4)\n",
    "d"
   ]
  },
  {
   "cell_type": "code",
   "execution_count": 47,
   "metadata": {},
   "outputs": [
    {
     "data": {
      "text/plain": [
       "tensor([[ 3.7417, 11.2250, 19.1311],\n",
       "        [27.0924, 35.0714, 43.0581]])"
      ]
     },
     "execution_count": 47,
     "metadata": {},
     "output_type": "execute_result"
    }
   ],
   "source": [
    "torch.norm(d, dim=2)\n",
    "\n"
   ]
  },
  {
   "cell_type": "code",
   "execution_count": null,
   "metadata": {},
   "outputs": [],
   "source": []
  }
 ],
 "metadata": {
  "kernelspec": {
   "display_name": "Python 3",
   "language": "python",
   "name": "python3"
  },
  "language_info": {
   "codemirror_mode": {
    "name": "ipython",
    "version": 3
   },
   "file_extension": ".py",
   "mimetype": "text/x-python",
   "name": "python",
   "nbconvert_exporter": "python",
   "pygments_lexer": "ipython3",
   "version": "3.7.7"
  }
 },
 "nbformat": 4,
 "nbformat_minor": 4
}
